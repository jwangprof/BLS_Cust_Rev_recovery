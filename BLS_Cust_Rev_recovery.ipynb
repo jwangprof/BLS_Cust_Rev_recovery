{
 "cells": [
  {
   "cell_type": "code",
   "execution_count": 1,
   "metadata": {},
   "outputs": [],
   "source": [
    "import warnings\n",
    "warnings.filterwarnings('ignore')\n",
    "\n",
    "import numpy as np\n",
    "import pandas as pd\n",
    "import time\n",
    "import gc\n",
    "from sklearn.model_selection import cross_val_score, GridSearchCV, cross_validate, train_test_split\n",
    "from sklearn.metrics import accuracy_score, classification_report\n",
    "from sklearn.svm import SVC\n",
    "from sklearn.linear_model import LinearRegression\n",
    "from sklearn.neural_network import MLPClassifier\n",
    "from sklearn.ensemble import RandomForestClassifier\n",
    "from sklearn.preprocessing import StandardScaler, normalize\n",
    "from sklearn.decomposition import PCA\n",
    "from sklearn.impute import SimpleImputer\n",
    "from sklearn import linear_model\n",
    "\n",
    "import seaborn as sns\n",
    "import matplotlib.pyplot as plt"
   ]
  },
  {
   "cell_type": "code",
   "execution_count": 2,
   "metadata": {},
   "outputs": [],
   "source": [
    "mydata=pd.read_csv('jw5.25testv2.csv')"
   ]
  },
  {
   "cell_type": "code",
   "execution_count": 3,
   "metadata": {},
   "outputs": [
    {
     "data": {
      "text/plain": [
       "(843507, 40)"
      ]
     },
     "execution_count": 3,
     "metadata": {},
     "output_type": "execute_result"
    }
   ],
   "source": [
    "mydata.shape"
   ]
  },
  {
   "cell_type": "code",
   "execution_count": 61,
   "metadata": {},
   "outputs": [
    {
     "data": {
      "text/html": [
       "<div>\n",
       "<style scoped>\n",
       "    .dataframe tbody tr th:only-of-type {\n",
       "        vertical-align: middle;\n",
       "    }\n",
       "\n",
       "    .dataframe tbody tr th {\n",
       "        vertical-align: top;\n",
       "    }\n",
       "\n",
       "    .dataframe thead th {\n",
       "        text-align: right;\n",
       "    }\n",
       "</style>\n",
       "<table border=\"1\" class=\"dataframe\">\n",
       "  <thead>\n",
       "    <tr style=\"text-align: right;\">\n",
       "      <th></th>\n",
       "      <th>Unnamed: 0</th>\n",
       "      <th>fiscal_year_value</th>\n",
       "      <th>opco</th>\n",
       "      <th>branch_code</th>\n",
       "      <th>cust_id</th>\n",
       "      <th>cust_name</th>\n",
       "      <th>CITY</th>\n",
       "      <th>STATE</th>\n",
       "      <th>POSTAL</th>\n",
       "      <th>JOBTITLE</th>\n",
       "      <th>...</th>\n",
       "      <th>zone</th>\n",
       "      <th>zone_desc</th>\n",
       "      <th>division</th>\n",
       "      <th>division_desc</th>\n",
       "      <th>concept</th>\n",
       "      <th>concept_desc</th>\n",
       "      <th>segment_group</th>\n",
       "      <th>consolidate_msa1</th>\n",
       "      <th>consolidate_msa2</th>\n",
       "      <th>uniqueID</th>\n",
       "    </tr>\n",
       "  </thead>\n",
       "  <tbody>\n",
       "    <tr>\n",
       "      <th>0</th>\n",
       "      <td>0</td>\n",
       "      <td>2020</td>\n",
       "      <td>RGS</td>\n",
       "      <td>10030</td>\n",
       "      <td>2000709686</td>\n",
       "      <td>ALABAMA POWER COMPANY</td>\n",
       "      <td>BIRMINGHAM</td>\n",
       "      <td>AL</td>\n",
       "      <td>35283</td>\n",
       "      <td>OFF0167</td>\n",
       "      <td>...</td>\n",
       "      <td>82200</td>\n",
       "      <td>SE West Zone</td>\n",
       "      <td>82000</td>\n",
       "      <td>MC Division</td>\n",
       "      <td>MC Concept</td>\n",
       "      <td>MC</td>\n",
       "      <td>OP</td>\n",
       "      <td>0</td>\n",
       "      <td>Birmingham-Hoover, AL</td>\n",
       "      <td>Birmingham-Hoover, ALSENIOR ADMINISTRATIVE ASS...</td>\n",
       "    </tr>\n",
       "    <tr>\n",
       "      <th>1</th>\n",
       "      <td>1</td>\n",
       "      <td>2020</td>\n",
       "      <td>RGS</td>\n",
       "      <td>10030</td>\n",
       "      <td>2000709686</td>\n",
       "      <td>ALABAMA POWER COMPANY</td>\n",
       "      <td>BIRMINGHAM</td>\n",
       "      <td>AL</td>\n",
       "      <td>35291</td>\n",
       "      <td>FAS0049</td>\n",
       "      <td>...</td>\n",
       "      <td>82200</td>\n",
       "      <td>SE West Zone</td>\n",
       "      <td>82000</td>\n",
       "      <td>MC Division</td>\n",
       "      <td>MC Concept</td>\n",
       "      <td>MC</td>\n",
       "      <td>OP</td>\n",
       "      <td>0</td>\n",
       "      <td>Birmingham-Hoover, AL</td>\n",
       "      <td>Birmingham-Hoover, ALPAYROLL CLERK</td>\n",
       "    </tr>\n",
       "    <tr>\n",
       "      <th>2</th>\n",
       "      <td>2</td>\n",
       "      <td>2020</td>\n",
       "      <td>RGS</td>\n",
       "      <td>10030</td>\n",
       "      <td>2000709686</td>\n",
       "      <td>ALABAMA POWER COMPANY</td>\n",
       "      <td>BIRMINGHAM</td>\n",
       "      <td>AL</td>\n",
       "      <td>35291</td>\n",
       "      <td>FAS0049</td>\n",
       "      <td>...</td>\n",
       "      <td>82200</td>\n",
       "      <td>SE West Zone</td>\n",
       "      <td>82000</td>\n",
       "      <td>MC Division</td>\n",
       "      <td>MC Concept</td>\n",
       "      <td>MC</td>\n",
       "      <td>OP</td>\n",
       "      <td>0</td>\n",
       "      <td>Birmingham-Hoover, AL</td>\n",
       "      <td>Birmingham-Hoover, ALPAYROLL CLERK</td>\n",
       "    </tr>\n",
       "    <tr>\n",
       "      <th>3</th>\n",
       "      <td>3</td>\n",
       "      <td>2020</td>\n",
       "      <td>RGS</td>\n",
       "      <td>10030</td>\n",
       "      <td>2000709686</td>\n",
       "      <td>ALABAMA POWER COMPANY</td>\n",
       "      <td>BIRMINGHAM</td>\n",
       "      <td>AL</td>\n",
       "      <td>35291</td>\n",
       "      <td>FAS0049</td>\n",
       "      <td>...</td>\n",
       "      <td>82200</td>\n",
       "      <td>SE West Zone</td>\n",
       "      <td>82000</td>\n",
       "      <td>MC Division</td>\n",
       "      <td>MC Concept</td>\n",
       "      <td>MC</td>\n",
       "      <td>OP</td>\n",
       "      <td>0</td>\n",
       "      <td>Birmingham-Hoover, AL</td>\n",
       "      <td>Birmingham-Hoover, ALPAYROLL CLERK</td>\n",
       "    </tr>\n",
       "    <tr>\n",
       "      <th>4</th>\n",
       "      <td>4</td>\n",
       "      <td>2020</td>\n",
       "      <td>RGS</td>\n",
       "      <td>10030</td>\n",
       "      <td>2000709686</td>\n",
       "      <td>ALABAMA POWER COMPANY</td>\n",
       "      <td>BIRMINGHAM</td>\n",
       "      <td>AL</td>\n",
       "      <td>35291</td>\n",
       "      <td>FAS0049</td>\n",
       "      <td>...</td>\n",
       "      <td>82200</td>\n",
       "      <td>SE West Zone</td>\n",
       "      <td>82000</td>\n",
       "      <td>MC Division</td>\n",
       "      <td>MC Concept</td>\n",
       "      <td>MC</td>\n",
       "      <td>OP</td>\n",
       "      <td>0</td>\n",
       "      <td>Birmingham-Hoover, AL</td>\n",
       "      <td>Birmingham-Hoover, ALPAYROLL CLERK</td>\n",
       "    </tr>\n",
       "  </tbody>\n",
       "</table>\n",
       "<p>5 rows × 43 columns</p>\n",
       "</div>"
      ],
      "text/plain": [
       "   Unnamed: 0  fiscal_year_value opco  branch_code     cust_id  \\\n",
       "0           0               2020  RGS        10030  2000709686   \n",
       "1           1               2020  RGS        10030  2000709686   \n",
       "2           2               2020  RGS        10030  2000709686   \n",
       "3           3               2020  RGS        10030  2000709686   \n",
       "4           4               2020  RGS        10030  2000709686   \n",
       "\n",
       "               cust_name        CITY STATE POSTAL JOBTITLE  ...   zone  \\\n",
       "0  ALABAMA POWER COMPANY  BIRMINGHAM    AL  35283  OFF0167  ...  82200   \n",
       "1  ALABAMA POWER COMPANY  BIRMINGHAM    AL  35291  FAS0049  ...  82200   \n",
       "2  ALABAMA POWER COMPANY  BIRMINGHAM    AL  35291  FAS0049  ...  82200   \n",
       "3  ALABAMA POWER COMPANY  BIRMINGHAM    AL  35291  FAS0049  ...  82200   \n",
       "4  ALABAMA POWER COMPANY  BIRMINGHAM    AL  35291  FAS0049  ...  82200   \n",
       "\n",
       "      zone_desc division  division_desc     concept concept_desc  \\\n",
       "0  SE West Zone    82000    MC Division  MC Concept           MC   \n",
       "1  SE West Zone    82000    MC Division  MC Concept           MC   \n",
       "2  SE West Zone    82000    MC Division  MC Concept           MC   \n",
       "3  SE West Zone    82000    MC Division  MC Concept           MC   \n",
       "4  SE West Zone    82000    MC Division  MC Concept           MC   \n",
       "\n",
       "   segment_group  consolidate_msa1       consolidate_msa2  \\\n",
       "0             OP                 0  Birmingham-Hoover, AL   \n",
       "1             OP                 0  Birmingham-Hoover, AL   \n",
       "2             OP                 0  Birmingham-Hoover, AL   \n",
       "3             OP                 0  Birmingham-Hoover, AL   \n",
       "4             OP                 0  Birmingham-Hoover, AL   \n",
       "\n",
       "                                            uniqueID  \n",
       "0  Birmingham-Hoover, ALSENIOR ADMINISTRATIVE ASS...  \n",
       "1                 Birmingham-Hoover, ALPAYROLL CLERK  \n",
       "2                 Birmingham-Hoover, ALPAYROLL CLERK  \n",
       "3                 Birmingham-Hoover, ALPAYROLL CLERK  \n",
       "4                 Birmingham-Hoover, ALPAYROLL CLERK  \n",
       "\n",
       "[5 rows x 43 columns]"
      ]
     },
     "execution_count": 61,
     "metadata": {},
     "output_type": "execute_result"
    }
   ],
   "source": [
    "mydata.head()"
   ]
  },
  {
   "cell_type": "markdown",
   "metadata": {},
   "source": [
    "Modify BLS data (mapping file with OES at MSA level, inner join with matching job titles. Mapping file (after manual categorization and normalization)"
   ]
  },
  {
   "cell_type": "code",
   "execution_count": 4,
   "metadata": {},
   "outputs": [],
   "source": [
    "\n",
    "def blsclean():\n",
    "    #input=bls\n",
    "    # cleanse - where Hmean Hmedian has no number\n",
    "    # mapping job_desc with occ_title\n",
    "    \n",
    "    df=pd.read_csv('MSA_M2020.csv', usecols= ['AREA_TITLE','OCC_TITLE', 'H_MEAN','H_MEDIAN'])\n",
    "    df = df[df.H_MEAN != '*']\n",
    "    df = df[df.H_MEAN != '#']\n",
    "    df = df[df.H_MEDIAN != '#']\n",
    "    df = df[df.H_MEDIAN != '*']\n",
    "\n",
    "    mapping=pd.read_csv('mapping.csv', usecols= ['JOB_DESCR','OCC_TITLE'])\n",
    "        \n",
    "    blsclean=pd.merge(df,mapping,on='OCC_TITLE',how=\"inner\")\n",
    "    blsclean.shape\n",
    "    blsclean.to_csv('blsclean.csv')\n",
    "\n",
    "    blsclean['uniqueID']=blsclean['AREA_TITLE'].astype(str) + blsclean['JOB_DESCR'].astype(str)\n",
    "    \n",
    "    return blsclean"
   ]
  },
  {
   "cell_type": "code",
   "execution_count": 5,
   "metadata": {},
   "outputs": [
    {
     "name": "stdout",
     "output_type": "stream",
     "text": [
      "(231978, 6)\n"
     ]
    },
    {
     "data": {
      "text/html": [
       "<div>\n",
       "<style scoped>\n",
       "    .dataframe tbody tr th:only-of-type {\n",
       "        vertical-align: middle;\n",
       "    }\n",
       "\n",
       "    .dataframe tbody tr th {\n",
       "        vertical-align: top;\n",
       "    }\n",
       "\n",
       "    .dataframe thead th {\n",
       "        text-align: right;\n",
       "    }\n",
       "</style>\n",
       "<table border=\"1\" class=\"dataframe\">\n",
       "  <thead>\n",
       "    <tr style=\"text-align: right;\">\n",
       "      <th></th>\n",
       "      <th>AREA_TITLE</th>\n",
       "      <th>OCC_TITLE</th>\n",
       "      <th>H_MEAN</th>\n",
       "      <th>H_MEDIAN</th>\n",
       "      <th>JOB_DESCR</th>\n",
       "      <th>uniqueID</th>\n",
       "    </tr>\n",
       "  </thead>\n",
       "  <tbody>\n",
       "    <tr>\n",
       "      <th>0</th>\n",
       "      <td>Abilene, TX</td>\n",
       "      <td>General and Operations Managers</td>\n",
       "      <td>40.38</td>\n",
       "      <td>32.96</td>\n",
       "      <td>RIS - ACCOUNT MANAGER</td>\n",
       "      <td>Abilene, TXRIS - ACCOUNT MANAGER</td>\n",
       "    </tr>\n",
       "    <tr>\n",
       "      <th>1</th>\n",
       "      <td>Abilene, TX</td>\n",
       "      <td>General and Operations Managers</td>\n",
       "      <td>40.38</td>\n",
       "      <td>32.96</td>\n",
       "      <td>2ND SHIFT MANAGER</td>\n",
       "      <td>Abilene, TX2ND SHIFT MANAGER</td>\n",
       "    </tr>\n",
       "    <tr>\n",
       "      <th>2</th>\n",
       "      <td>Aguadilla-Isabela, PR</td>\n",
       "      <td>General and Operations Managers</td>\n",
       "      <td>43.51</td>\n",
       "      <td>33.78</td>\n",
       "      <td>RIS - ACCOUNT MANAGER</td>\n",
       "      <td>Aguadilla-Isabela, PRRIS - ACCOUNT MANAGER</td>\n",
       "    </tr>\n",
       "    <tr>\n",
       "      <th>3</th>\n",
       "      <td>Aguadilla-Isabela, PR</td>\n",
       "      <td>General and Operations Managers</td>\n",
       "      <td>43.51</td>\n",
       "      <td>33.78</td>\n",
       "      <td>2ND SHIFT MANAGER</td>\n",
       "      <td>Aguadilla-Isabela, PR2ND SHIFT MANAGER</td>\n",
       "    </tr>\n",
       "    <tr>\n",
       "      <th>4</th>\n",
       "      <td>Akron, OH</td>\n",
       "      <td>General and Operations Managers</td>\n",
       "      <td>58.34</td>\n",
       "      <td>50.38</td>\n",
       "      <td>RIS - ACCOUNT MANAGER</td>\n",
       "      <td>Akron, OHRIS - ACCOUNT MANAGER</td>\n",
       "    </tr>\n",
       "  </tbody>\n",
       "</table>\n",
       "</div>"
      ],
      "text/plain": [
       "              AREA_TITLE                        OCC_TITLE H_MEAN H_MEDIAN  \\\n",
       "0            Abilene, TX  General and Operations Managers  40.38    32.96   \n",
       "1            Abilene, TX  General and Operations Managers  40.38    32.96   \n",
       "2  Aguadilla-Isabela, PR  General and Operations Managers  43.51    33.78   \n",
       "3  Aguadilla-Isabela, PR  General and Operations Managers  43.51    33.78   \n",
       "4              Akron, OH  General and Operations Managers  58.34    50.38   \n",
       "\n",
       "               JOB_DESCR                                    uniqueID  \n",
       "0  RIS - ACCOUNT MANAGER            Abilene, TXRIS - ACCOUNT MANAGER  \n",
       "1      2ND SHIFT MANAGER                Abilene, TX2ND SHIFT MANAGER  \n",
       "2  RIS - ACCOUNT MANAGER  Aguadilla-Isabela, PRRIS - ACCOUNT MANAGER  \n",
       "3      2ND SHIFT MANAGER      Aguadilla-Isabela, PR2ND SHIFT MANAGER  \n",
       "4  RIS - ACCOUNT MANAGER              Akron, OHRIS - ACCOUNT MANAGER  "
      ]
     },
     "execution_count": 5,
     "metadata": {},
     "output_type": "execute_result"
    }
   ],
   "source": [
    "blsclean=blsclean()\n",
    "print(blsclean.shape)\n",
    "blsclean.head()"
   ]
  },
  {
   "cell_type": "markdown",
   "metadata": {},
   "source": [
    "# Prepare customer data for merge (blsclean & mydata) -->match on MSA and job_desc --> inner merge\n",
    "\n"
   ]
  },
  {
   "cell_type": "code",
   "execution_count": 6,
   "metadata": {},
   "outputs": [
    {
     "name": "stdout",
     "output_type": "stream",
     "text": [
      "(840493, 43)\n"
     ]
    },
    {
     "data": {
      "text/html": [
       "<div>\n",
       "<style scoped>\n",
       "    .dataframe tbody tr th:only-of-type {\n",
       "        vertical-align: middle;\n",
       "    }\n",
       "\n",
       "    .dataframe tbody tr th {\n",
       "        vertical-align: top;\n",
       "    }\n",
       "\n",
       "    .dataframe thead th {\n",
       "        text-align: right;\n",
       "    }\n",
       "</style>\n",
       "<table border=\"1\" class=\"dataframe\">\n",
       "  <thead>\n",
       "    <tr style=\"text-align: right;\">\n",
       "      <th></th>\n",
       "      <th>Unnamed: 0</th>\n",
       "      <th>fiscal_year_value</th>\n",
       "      <th>opco</th>\n",
       "      <th>branch_code</th>\n",
       "      <th>cust_id</th>\n",
       "      <th>cust_name</th>\n",
       "      <th>CITY</th>\n",
       "      <th>STATE</th>\n",
       "      <th>POSTAL</th>\n",
       "      <th>JOBTITLE</th>\n",
       "      <th>...</th>\n",
       "      <th>zone</th>\n",
       "      <th>zone_desc</th>\n",
       "      <th>division</th>\n",
       "      <th>division_desc</th>\n",
       "      <th>concept</th>\n",
       "      <th>concept_desc</th>\n",
       "      <th>segment_group</th>\n",
       "      <th>consolidate_msa1</th>\n",
       "      <th>consolidate_msa2</th>\n",
       "      <th>uniqueID</th>\n",
       "    </tr>\n",
       "  </thead>\n",
       "  <tbody>\n",
       "    <tr>\n",
       "      <th>0</th>\n",
       "      <td>0</td>\n",
       "      <td>2020</td>\n",
       "      <td>RGS</td>\n",
       "      <td>10030</td>\n",
       "      <td>2000709686</td>\n",
       "      <td>ALABAMA POWER COMPANY</td>\n",
       "      <td>BIRMINGHAM</td>\n",
       "      <td>AL</td>\n",
       "      <td>35283</td>\n",
       "      <td>OFF0167</td>\n",
       "      <td>...</td>\n",
       "      <td>82200</td>\n",
       "      <td>SE West Zone</td>\n",
       "      <td>82000</td>\n",
       "      <td>MC Division</td>\n",
       "      <td>MC Concept</td>\n",
       "      <td>MC</td>\n",
       "      <td>OP</td>\n",
       "      <td>0</td>\n",
       "      <td>Birmingham-Hoover, AL</td>\n",
       "      <td>Birmingham-Hoover, ALSENIOR ADMINISTRATIVE ASS...</td>\n",
       "    </tr>\n",
       "    <tr>\n",
       "      <th>1</th>\n",
       "      <td>1</td>\n",
       "      <td>2020</td>\n",
       "      <td>RGS</td>\n",
       "      <td>10030</td>\n",
       "      <td>2000709686</td>\n",
       "      <td>ALABAMA POWER COMPANY</td>\n",
       "      <td>BIRMINGHAM</td>\n",
       "      <td>AL</td>\n",
       "      <td>35291</td>\n",
       "      <td>FAS0049</td>\n",
       "      <td>...</td>\n",
       "      <td>82200</td>\n",
       "      <td>SE West Zone</td>\n",
       "      <td>82000</td>\n",
       "      <td>MC Division</td>\n",
       "      <td>MC Concept</td>\n",
       "      <td>MC</td>\n",
       "      <td>OP</td>\n",
       "      <td>0</td>\n",
       "      <td>Birmingham-Hoover, AL</td>\n",
       "      <td>Birmingham-Hoover, ALPAYROLL CLERK</td>\n",
       "    </tr>\n",
       "    <tr>\n",
       "      <th>2</th>\n",
       "      <td>2</td>\n",
       "      <td>2020</td>\n",
       "      <td>RGS</td>\n",
       "      <td>10030</td>\n",
       "      <td>2000709686</td>\n",
       "      <td>ALABAMA POWER COMPANY</td>\n",
       "      <td>BIRMINGHAM</td>\n",
       "      <td>AL</td>\n",
       "      <td>35291</td>\n",
       "      <td>FAS0049</td>\n",
       "      <td>...</td>\n",
       "      <td>82200</td>\n",
       "      <td>SE West Zone</td>\n",
       "      <td>82000</td>\n",
       "      <td>MC Division</td>\n",
       "      <td>MC Concept</td>\n",
       "      <td>MC</td>\n",
       "      <td>OP</td>\n",
       "      <td>0</td>\n",
       "      <td>Birmingham-Hoover, AL</td>\n",
       "      <td>Birmingham-Hoover, ALPAYROLL CLERK</td>\n",
       "    </tr>\n",
       "    <tr>\n",
       "      <th>3</th>\n",
       "      <td>3</td>\n",
       "      <td>2020</td>\n",
       "      <td>RGS</td>\n",
       "      <td>10030</td>\n",
       "      <td>2000709686</td>\n",
       "      <td>ALABAMA POWER COMPANY</td>\n",
       "      <td>BIRMINGHAM</td>\n",
       "      <td>AL</td>\n",
       "      <td>35291</td>\n",
       "      <td>FAS0049</td>\n",
       "      <td>...</td>\n",
       "      <td>82200</td>\n",
       "      <td>SE West Zone</td>\n",
       "      <td>82000</td>\n",
       "      <td>MC Division</td>\n",
       "      <td>MC Concept</td>\n",
       "      <td>MC</td>\n",
       "      <td>OP</td>\n",
       "      <td>0</td>\n",
       "      <td>Birmingham-Hoover, AL</td>\n",
       "      <td>Birmingham-Hoover, ALPAYROLL CLERK</td>\n",
       "    </tr>\n",
       "    <tr>\n",
       "      <th>4</th>\n",
       "      <td>4</td>\n",
       "      <td>2020</td>\n",
       "      <td>RGS</td>\n",
       "      <td>10030</td>\n",
       "      <td>2000709686</td>\n",
       "      <td>ALABAMA POWER COMPANY</td>\n",
       "      <td>BIRMINGHAM</td>\n",
       "      <td>AL</td>\n",
       "      <td>35291</td>\n",
       "      <td>FAS0049</td>\n",
       "      <td>...</td>\n",
       "      <td>82200</td>\n",
       "      <td>SE West Zone</td>\n",
       "      <td>82000</td>\n",
       "      <td>MC Division</td>\n",
       "      <td>MC Concept</td>\n",
       "      <td>MC</td>\n",
       "      <td>OP</td>\n",
       "      <td>0</td>\n",
       "      <td>Birmingham-Hoover, AL</td>\n",
       "      <td>Birmingham-Hoover, ALPAYROLL CLERK</td>\n",
       "    </tr>\n",
       "  </tbody>\n",
       "</table>\n",
       "<p>5 rows × 43 columns</p>\n",
       "</div>"
      ],
      "text/plain": [
       "   Unnamed: 0  fiscal_year_value opco  branch_code     cust_id  \\\n",
       "0           0               2020  RGS        10030  2000709686   \n",
       "1           1               2020  RGS        10030  2000709686   \n",
       "2           2               2020  RGS        10030  2000709686   \n",
       "3           3               2020  RGS        10030  2000709686   \n",
       "4           4               2020  RGS        10030  2000709686   \n",
       "\n",
       "               cust_name        CITY STATE POSTAL JOBTITLE  ...   zone  \\\n",
       "0  ALABAMA POWER COMPANY  BIRMINGHAM    AL  35283  OFF0167  ...  82200   \n",
       "1  ALABAMA POWER COMPANY  BIRMINGHAM    AL  35291  FAS0049  ...  82200   \n",
       "2  ALABAMA POWER COMPANY  BIRMINGHAM    AL  35291  FAS0049  ...  82200   \n",
       "3  ALABAMA POWER COMPANY  BIRMINGHAM    AL  35291  FAS0049  ...  82200   \n",
       "4  ALABAMA POWER COMPANY  BIRMINGHAM    AL  35291  FAS0049  ...  82200   \n",
       "\n",
       "      zone_desc division  division_desc     concept concept_desc  \\\n",
       "0  SE West Zone    82000    MC Division  MC Concept           MC   \n",
       "1  SE West Zone    82000    MC Division  MC Concept           MC   \n",
       "2  SE West Zone    82000    MC Division  MC Concept           MC   \n",
       "3  SE West Zone    82000    MC Division  MC Concept           MC   \n",
       "4  SE West Zone    82000    MC Division  MC Concept           MC   \n",
       "\n",
       "   segment_group  consolidate_msa1       consolidate_msa2  \\\n",
       "0             OP                 0  Birmingham-Hoover, AL   \n",
       "1             OP                 0  Birmingham-Hoover, AL   \n",
       "2             OP                 0  Birmingham-Hoover, AL   \n",
       "3             OP                 0  Birmingham-Hoover, AL   \n",
       "4             OP                 0  Birmingham-Hoover, AL   \n",
       "\n",
       "                                            uniqueID  \n",
       "0  Birmingham-Hoover, ALSENIOR ADMINISTRATIVE ASS...  \n",
       "1                 Birmingham-Hoover, ALPAYROLL CLERK  \n",
       "2                 Birmingham-Hoover, ALPAYROLL CLERK  \n",
       "3                 Birmingham-Hoover, ALPAYROLL CLERK  \n",
       "4                 Birmingham-Hoover, ALPAYROLL CLERK  \n",
       "\n",
       "[5 rows x 43 columns]"
      ]
     },
     "execution_count": 6,
     "metadata": {},
     "output_type": "execute_result"
    }
   ],
   "source": [
    "\n",
    "def consolidate_msa(df):\n",
    "    # input = mydata (cust churn data)\n",
    "    # consolidate MSA with ws_msa & branch_msa (msa consolidation)\n",
    "    # for ones without msa, exclude (exclude 0--> no MSA match)\n",
    "    \n",
    "    df.ws_msa.fillna(value=0, inplace=True) # This fills all the null values in the columns with 0.\n",
    "    df.branch_msa.fillna(value=0, inplace=True)\n",
    "    df.CLOSEST_BLS_MSA.fillna(value=0, inplace=True)\n",
    "\n",
    "    df['consolidate_msa1'] = np.where(df['ws_msa']!=0,df['ws_msa'], df['CLOSEST_BLS_MSA'])\n",
    "    df['consolidate_msa2'] = np.where(df['consolidate_msa1']!=0,df['consolidate_msa1'], df['branch_msa'])\n",
    "    \n",
    "    df['uniqueID']=df['consolidate_msa2'].astype(str) + df['JOB_DESCR'].astype(str)\n",
    "\n",
    "    # remove datapoint where consolidate_msa2 is zero\n",
    "    result= df[df['consolidate_msa2'] != 0]\n",
    "\n",
    "    return result\n",
    "\n",
    "### cleanse mydata to exclude ones without MSA/locations match (some rowsi n cust churn have no msa, longitude, etc.)\n",
    "\n",
    "mydata=consolidate_msa(mydata)\n",
    "print(mydata.shape)\n",
    "mydata.head()"
   ]
  },
  {
   "cell_type": "code",
   "execution_count": 7,
   "metadata": {},
   "outputs": [
    {
     "name": "stdout",
     "output_type": "stream",
     "text": [
      "(772212, 48)\n",
      "lost data from 840K to 772K due to no exact match on naming + MSA match\n"
     ]
    },
    {
     "data": {
      "text/html": [
       "<div>\n",
       "<style scoped>\n",
       "    .dataframe tbody tr th:only-of-type {\n",
       "        vertical-align: middle;\n",
       "    }\n",
       "\n",
       "    .dataframe tbody tr th {\n",
       "        vertical-align: top;\n",
       "    }\n",
       "\n",
       "    .dataframe thead th {\n",
       "        text-align: right;\n",
       "    }\n",
       "</style>\n",
       "<table border=\"1\" class=\"dataframe\">\n",
       "  <thead>\n",
       "    <tr style=\"text-align: right;\">\n",
       "      <th></th>\n",
       "      <th>Unnamed: 0</th>\n",
       "      <th>fiscal_year_value</th>\n",
       "      <th>opco</th>\n",
       "      <th>branch_code</th>\n",
       "      <th>cust_id</th>\n",
       "      <th>cust_name</th>\n",
       "      <th>CITY</th>\n",
       "      <th>STATE</th>\n",
       "      <th>POSTAL</th>\n",
       "      <th>JOBTITLE</th>\n",
       "      <th>...</th>\n",
       "      <th>concept_desc</th>\n",
       "      <th>segment_group</th>\n",
       "      <th>consolidate_msa1</th>\n",
       "      <th>consolidate_msa2</th>\n",
       "      <th>uniqueID</th>\n",
       "      <th>AREA_TITLE</th>\n",
       "      <th>OCC_TITLE</th>\n",
       "      <th>H_MEAN</th>\n",
       "      <th>H_MEDIAN</th>\n",
       "      <th>JOB_DESCR_y</th>\n",
       "    </tr>\n",
       "  </thead>\n",
       "  <tbody>\n",
       "    <tr>\n",
       "      <th>0</th>\n",
       "      <td>0</td>\n",
       "      <td>2020</td>\n",
       "      <td>RGS</td>\n",
       "      <td>10030</td>\n",
       "      <td>2000709686</td>\n",
       "      <td>ALABAMA POWER COMPANY</td>\n",
       "      <td>BIRMINGHAM</td>\n",
       "      <td>AL</td>\n",
       "      <td>35283</td>\n",
       "      <td>OFF0167</td>\n",
       "      <td>...</td>\n",
       "      <td>MC</td>\n",
       "      <td>OP</td>\n",
       "      <td>0</td>\n",
       "      <td>Birmingham-Hoover, AL</td>\n",
       "      <td>Birmingham-Hoover, ALSENIOR ADMINISTRATIVE ASS...</td>\n",
       "      <td>Birmingham-Hoover, AL</td>\n",
       "      <td>Secretaries and Administrative Assistants, Exc...</td>\n",
       "      <td>18.63</td>\n",
       "      <td>18.14</td>\n",
       "      <td>SENIOR ADMINISTRATIVE ASSISTANT</td>\n",
       "    </tr>\n",
       "    <tr>\n",
       "      <th>1</th>\n",
       "      <td>1</td>\n",
       "      <td>2020</td>\n",
       "      <td>RGS</td>\n",
       "      <td>10030</td>\n",
       "      <td>2000709686</td>\n",
       "      <td>ALABAMA POWER COMPANY</td>\n",
       "      <td>BIRMINGHAM</td>\n",
       "      <td>AL</td>\n",
       "      <td>35291</td>\n",
       "      <td>FAS0049</td>\n",
       "      <td>...</td>\n",
       "      <td>MC</td>\n",
       "      <td>OP</td>\n",
       "      <td>0</td>\n",
       "      <td>Birmingham-Hoover, AL</td>\n",
       "      <td>Birmingham-Hoover, ALPAYROLL CLERK</td>\n",
       "      <td>Birmingham-Hoover, AL</td>\n",
       "      <td>Payroll and Timekeeping Clerks</td>\n",
       "      <td>20.37</td>\n",
       "      <td>20.06</td>\n",
       "      <td>PAYROLL CLERK</td>\n",
       "    </tr>\n",
       "    <tr>\n",
       "      <th>2</th>\n",
       "      <td>2</td>\n",
       "      <td>2020</td>\n",
       "      <td>RGS</td>\n",
       "      <td>10030</td>\n",
       "      <td>2000709686</td>\n",
       "      <td>ALABAMA POWER COMPANY</td>\n",
       "      <td>BIRMINGHAM</td>\n",
       "      <td>AL</td>\n",
       "      <td>35291</td>\n",
       "      <td>FAS0049</td>\n",
       "      <td>...</td>\n",
       "      <td>MC</td>\n",
       "      <td>OP</td>\n",
       "      <td>0</td>\n",
       "      <td>Birmingham-Hoover, AL</td>\n",
       "      <td>Birmingham-Hoover, ALPAYROLL CLERK</td>\n",
       "      <td>Birmingham-Hoover, AL</td>\n",
       "      <td>Payroll and Timekeeping Clerks</td>\n",
       "      <td>20.37</td>\n",
       "      <td>20.06</td>\n",
       "      <td>PAYROLL CLERK</td>\n",
       "    </tr>\n",
       "    <tr>\n",
       "      <th>3</th>\n",
       "      <td>3</td>\n",
       "      <td>2020</td>\n",
       "      <td>RGS</td>\n",
       "      <td>10030</td>\n",
       "      <td>2000709686</td>\n",
       "      <td>ALABAMA POWER COMPANY</td>\n",
       "      <td>BIRMINGHAM</td>\n",
       "      <td>AL</td>\n",
       "      <td>35291</td>\n",
       "      <td>FAS0049</td>\n",
       "      <td>...</td>\n",
       "      <td>MC</td>\n",
       "      <td>OP</td>\n",
       "      <td>0</td>\n",
       "      <td>Birmingham-Hoover, AL</td>\n",
       "      <td>Birmingham-Hoover, ALPAYROLL CLERK</td>\n",
       "      <td>Birmingham-Hoover, AL</td>\n",
       "      <td>Payroll and Timekeeping Clerks</td>\n",
       "      <td>20.37</td>\n",
       "      <td>20.06</td>\n",
       "      <td>PAYROLL CLERK</td>\n",
       "    </tr>\n",
       "    <tr>\n",
       "      <th>4</th>\n",
       "      <td>4</td>\n",
       "      <td>2020</td>\n",
       "      <td>RGS</td>\n",
       "      <td>10030</td>\n",
       "      <td>2000709686</td>\n",
       "      <td>ALABAMA POWER COMPANY</td>\n",
       "      <td>BIRMINGHAM</td>\n",
       "      <td>AL</td>\n",
       "      <td>35291</td>\n",
       "      <td>FAS0049</td>\n",
       "      <td>...</td>\n",
       "      <td>MC</td>\n",
       "      <td>OP</td>\n",
       "      <td>0</td>\n",
       "      <td>Birmingham-Hoover, AL</td>\n",
       "      <td>Birmingham-Hoover, ALPAYROLL CLERK</td>\n",
       "      <td>Birmingham-Hoover, AL</td>\n",
       "      <td>Payroll and Timekeeping Clerks</td>\n",
       "      <td>20.37</td>\n",
       "      <td>20.06</td>\n",
       "      <td>PAYROLL CLERK</td>\n",
       "    </tr>\n",
       "  </tbody>\n",
       "</table>\n",
       "<p>5 rows × 48 columns</p>\n",
       "</div>"
      ],
      "text/plain": [
       "   Unnamed: 0  fiscal_year_value opco  branch_code     cust_id  \\\n",
       "0           0               2020  RGS        10030  2000709686   \n",
       "1           1               2020  RGS        10030  2000709686   \n",
       "2           2               2020  RGS        10030  2000709686   \n",
       "3           3               2020  RGS        10030  2000709686   \n",
       "4           4               2020  RGS        10030  2000709686   \n",
       "\n",
       "               cust_name        CITY STATE POSTAL JOBTITLE  ... concept_desc  \\\n",
       "0  ALABAMA POWER COMPANY  BIRMINGHAM    AL  35283  OFF0167  ...           MC   \n",
       "1  ALABAMA POWER COMPANY  BIRMINGHAM    AL  35291  FAS0049  ...           MC   \n",
       "2  ALABAMA POWER COMPANY  BIRMINGHAM    AL  35291  FAS0049  ...           MC   \n",
       "3  ALABAMA POWER COMPANY  BIRMINGHAM    AL  35291  FAS0049  ...           MC   \n",
       "4  ALABAMA POWER COMPANY  BIRMINGHAM    AL  35291  FAS0049  ...           MC   \n",
       "\n",
       "  segment_group consolidate_msa1       consolidate_msa2  \\\n",
       "0            OP                0  Birmingham-Hoover, AL   \n",
       "1            OP                0  Birmingham-Hoover, AL   \n",
       "2            OP                0  Birmingham-Hoover, AL   \n",
       "3            OP                0  Birmingham-Hoover, AL   \n",
       "4            OP                0  Birmingham-Hoover, AL   \n",
       "\n",
       "                                            uniqueID             AREA_TITLE  \\\n",
       "0  Birmingham-Hoover, ALSENIOR ADMINISTRATIVE ASS...  Birmingham-Hoover, AL   \n",
       "1                 Birmingham-Hoover, ALPAYROLL CLERK  Birmingham-Hoover, AL   \n",
       "2                 Birmingham-Hoover, ALPAYROLL CLERK  Birmingham-Hoover, AL   \n",
       "3                 Birmingham-Hoover, ALPAYROLL CLERK  Birmingham-Hoover, AL   \n",
       "4                 Birmingham-Hoover, ALPAYROLL CLERK  Birmingham-Hoover, AL   \n",
       "\n",
       "                                           OCC_TITLE  H_MEAN  H_MEDIAN  \\\n",
       "0  Secretaries and Administrative Assistants, Exc...   18.63     18.14   \n",
       "1                     Payroll and Timekeeping Clerks   20.37     20.06   \n",
       "2                     Payroll and Timekeeping Clerks   20.37     20.06   \n",
       "3                     Payroll and Timekeeping Clerks   20.37     20.06   \n",
       "4                     Payroll and Timekeeping Clerks   20.37     20.06   \n",
       "\n",
       "                       JOB_DESCR_y  \n",
       "0  SENIOR ADMINISTRATIVE ASSISTANT  \n",
       "1                    PAYROLL CLERK  \n",
       "2                    PAYROLL CLERK  \n",
       "3                    PAYROLL CLERK  \n",
       "4                    PAYROLL CLERK  \n",
       "\n",
       "[5 rows x 48 columns]"
      ]
     },
     "execution_count": 7,
     "metadata": {},
     "output_type": "execute_result"
    }
   ],
   "source": [
    "def cus_match_bls(mydata,blsclean):\n",
    "    # bring Hmean Hmedian to cus data\n",
    "    \n",
    "    mydata1=pd.merge(mydata,blsclean,on='uniqueID', how=\"left\")\n",
    "    result=mydata1[mydata1.H_MEDIAN.notnull()]\n",
    "\n",
    "   #mydata_test=mydata1[pd.to_numeric(mydata1['H_MEAN'], errors='coerce').isnull()]\n",
    "    return result\n",
    "\n",
    "\n",
    "cus_data=cus_match_bls(mydata,blsclean)\n",
    "print(cus_data.shape)\n",
    "print(\"lost data from 840K to 772K due to no exact match on naming + MSA match\")\n",
    "cus_data.head()"
   ]
  },
  {
   "cell_type": "markdown",
   "metadata": {},
   "source": [
    "# -main data-cust churn, build on- \"weighted avgs\", etc\n",
    "reduce OCC_title level, --> my data~ cust_id & branch level"
   ]
  },
  {
   "cell_type": "code",
   "execution_count": 8,
   "metadata": {},
   "outputs": [
    {
     "name": "stdout",
     "output_type": "stream",
     "text": [
      "(689791, 53)\n",
      "lost data from 772K to 689K due to removal of est_hr=0\n"
     ]
    },
    {
     "data": {
      "text/html": [
       "<div>\n",
       "<style scoped>\n",
       "    .dataframe tbody tr th:only-of-type {\n",
       "        vertical-align: middle;\n",
       "    }\n",
       "\n",
       "    .dataframe tbody tr th {\n",
       "        vertical-align: top;\n",
       "    }\n",
       "\n",
       "    .dataframe thead th {\n",
       "        text-align: right;\n",
       "    }\n",
       "</style>\n",
       "<table border=\"1\" class=\"dataframe\">\n",
       "  <thead>\n",
       "    <tr style=\"text-align: right;\">\n",
       "      <th></th>\n",
       "      <th>Unnamed: 0</th>\n",
       "      <th>fiscal_year_value</th>\n",
       "      <th>opco</th>\n",
       "      <th>branch_code</th>\n",
       "      <th>cust_id</th>\n",
       "      <th>cust_name</th>\n",
       "      <th>CITY</th>\n",
       "      <th>STATE</th>\n",
       "      <th>POSTAL</th>\n",
       "      <th>JOBTITLE</th>\n",
       "      <th>...</th>\n",
       "      <th>AREA_TITLE</th>\n",
       "      <th>OCC_TITLE</th>\n",
       "      <th>H_MEAN</th>\n",
       "      <th>H_MEDIAN</th>\n",
       "      <th>JOB_DESCR_y</th>\n",
       "      <th>pr_vsmedian</th>\n",
       "      <th>est_hr</th>\n",
       "      <th>total_pay_amt</th>\n",
       "      <th>total_pay_H_MEAN</th>\n",
       "      <th>total_pay_H_MEDIAN</th>\n",
       "    </tr>\n",
       "  </thead>\n",
       "  <tbody>\n",
       "    <tr>\n",
       "      <th>0</th>\n",
       "      <td>0</td>\n",
       "      <td>2020</td>\n",
       "      <td>RGS</td>\n",
       "      <td>10030</td>\n",
       "      <td>2000709686</td>\n",
       "      <td>ALABAMA POWER COMPANY</td>\n",
       "      <td>BIRMINGHAM</td>\n",
       "      <td>AL</td>\n",
       "      <td>35283</td>\n",
       "      <td>OFF0167</td>\n",
       "      <td>...</td>\n",
       "      <td>Birmingham-Hoover, AL</td>\n",
       "      <td>Secretaries and Administrative Assistants, Exc...</td>\n",
       "      <td>18.63</td>\n",
       "      <td>18.14</td>\n",
       "      <td>SENIOR ADMINISTRATIVE ASSISTANT</td>\n",
       "      <td>-31.86</td>\n",
       "      <td>47.690723</td>\n",
       "      <td>2384.536158</td>\n",
       "      <td>888.478172</td>\n",
       "      <td>865.109718</td>\n",
       "    </tr>\n",
       "    <tr>\n",
       "      <th>14</th>\n",
       "      <td>15</td>\n",
       "      <td>2020</td>\n",
       "      <td>RGS</td>\n",
       "      <td>13017</td>\n",
       "      <td>2000967161</td>\n",
       "      <td>DO NOT USE/MSP/RCS/LENNOX</td>\n",
       "      <td>STUTTGART</td>\n",
       "      <td>AR</td>\n",
       "      <td>72160</td>\n",
       "      <td>CCS0001</td>\n",
       "      <td>...</td>\n",
       "      <td>Little Rock-North Little Rock-Conway, AR</td>\n",
       "      <td>Customer Service Representatives</td>\n",
       "      <td>17.45</td>\n",
       "      <td>16.07</td>\n",
       "      <td>CALL CENTER REPRESENTATIVE INBOUND</td>\n",
       "      <td>-13.93</td>\n",
       "      <td>305.420313</td>\n",
       "      <td>9162.609375</td>\n",
       "      <td>5329.584453</td>\n",
       "      <td>4908.104422</td>\n",
       "    </tr>\n",
       "    <tr>\n",
       "      <th>15</th>\n",
       "      <td>16</td>\n",
       "      <td>2020</td>\n",
       "      <td>RGS</td>\n",
       "      <td>13017</td>\n",
       "      <td>2000967161</td>\n",
       "      <td>DO NOT USE/MSP/RCS/LENNOX</td>\n",
       "      <td>STUTTGART</td>\n",
       "      <td>AR</td>\n",
       "      <td>72160</td>\n",
       "      <td>CCS0001</td>\n",
       "      <td>...</td>\n",
       "      <td>Little Rock-North Little Rock-Conway, AR</td>\n",
       "      <td>Customer Service Representatives</td>\n",
       "      <td>17.45</td>\n",
       "      <td>16.07</td>\n",
       "      <td>CALL CENTER REPRESENTATIVE INBOUND</td>\n",
       "      <td>-13.93</td>\n",
       "      <td>26.485937</td>\n",
       "      <td>794.578125</td>\n",
       "      <td>462.179609</td>\n",
       "      <td>425.629016</td>\n",
       "    </tr>\n",
       "    <tr>\n",
       "      <th>16</th>\n",
       "      <td>17</td>\n",
       "      <td>2020</td>\n",
       "      <td>RGS</td>\n",
       "      <td>13017</td>\n",
       "      <td>2000967161</td>\n",
       "      <td>DO NOT USE/MSP/RCS/LENNOX</td>\n",
       "      <td>STUTTGART</td>\n",
       "      <td>AR</td>\n",
       "      <td>72160</td>\n",
       "      <td>CCS0001</td>\n",
       "      <td>...</td>\n",
       "      <td>Little Rock-North Little Rock-Conway, AR</td>\n",
       "      <td>Customer Service Representatives</td>\n",
       "      <td>17.45</td>\n",
       "      <td>16.07</td>\n",
       "      <td>CALL CENTER REPRESENTATIVE INBOUND</td>\n",
       "      <td>-3.93</td>\n",
       "      <td>240.914000</td>\n",
       "      <td>4818.280000</td>\n",
       "      <td>4203.949300</td>\n",
       "      <td>3871.487980</td>\n",
       "    </tr>\n",
       "    <tr>\n",
       "      <th>17</th>\n",
       "      <td>18</td>\n",
       "      <td>2020</td>\n",
       "      <td>RGS</td>\n",
       "      <td>13017</td>\n",
       "      <td>2000967161</td>\n",
       "      <td>DO NOT USE/MSP/RCS/LENNOX</td>\n",
       "      <td>STUTTGART</td>\n",
       "      <td>AR</td>\n",
       "      <td>72160</td>\n",
       "      <td>CCS0001</td>\n",
       "      <td>...</td>\n",
       "      <td>Little Rock-North Little Rock-Conway, AR</td>\n",
       "      <td>Customer Service Representatives</td>\n",
       "      <td>17.45</td>\n",
       "      <td>16.07</td>\n",
       "      <td>CALL CENTER REPRESENTATIVE INBOUND</td>\n",
       "      <td>-3.93</td>\n",
       "      <td>390.376800</td>\n",
       "      <td>7807.536000</td>\n",
       "      <td>6812.075160</td>\n",
       "      <td>6273.355176</td>\n",
       "    </tr>\n",
       "  </tbody>\n",
       "</table>\n",
       "<p>5 rows × 53 columns</p>\n",
       "</div>"
      ],
      "text/plain": [
       "    Unnamed: 0  fiscal_year_value opco  branch_code     cust_id  \\\n",
       "0            0               2020  RGS        10030  2000709686   \n",
       "14          15               2020  RGS        13017  2000967161   \n",
       "15          16               2020  RGS        13017  2000967161   \n",
       "16          17               2020  RGS        13017  2000967161   \n",
       "17          18               2020  RGS        13017  2000967161   \n",
       "\n",
       "                    cust_name        CITY STATE POSTAL JOBTITLE  ...  \\\n",
       "0       ALABAMA POWER COMPANY  BIRMINGHAM    AL  35283  OFF0167  ...   \n",
       "14  DO NOT USE/MSP/RCS/LENNOX   STUTTGART    AR  72160  CCS0001  ...   \n",
       "15  DO NOT USE/MSP/RCS/LENNOX   STUTTGART    AR  72160  CCS0001  ...   \n",
       "16  DO NOT USE/MSP/RCS/LENNOX   STUTTGART    AR  72160  CCS0001  ...   \n",
       "17  DO NOT USE/MSP/RCS/LENNOX   STUTTGART    AR  72160  CCS0001  ...   \n",
       "\n",
       "                                  AREA_TITLE  \\\n",
       "0                      Birmingham-Hoover, AL   \n",
       "14  Little Rock-North Little Rock-Conway, AR   \n",
       "15  Little Rock-North Little Rock-Conway, AR   \n",
       "16  Little Rock-North Little Rock-Conway, AR   \n",
       "17  Little Rock-North Little Rock-Conway, AR   \n",
       "\n",
       "                                            OCC_TITLE H_MEAN  H_MEDIAN  \\\n",
       "0   Secretaries and Administrative Assistants, Exc...  18.63     18.14   \n",
       "14                   Customer Service Representatives  17.45     16.07   \n",
       "15                   Customer Service Representatives  17.45     16.07   \n",
       "16                   Customer Service Representatives  17.45     16.07   \n",
       "17                   Customer Service Representatives  17.45     16.07   \n",
       "\n",
       "                           JOB_DESCR_y pr_vsmedian      est_hr  total_pay_amt  \\\n",
       "0      SENIOR ADMINISTRATIVE ASSISTANT      -31.86   47.690723    2384.536158   \n",
       "14  CALL CENTER REPRESENTATIVE INBOUND      -13.93  305.420313    9162.609375   \n",
       "15  CALL CENTER REPRESENTATIVE INBOUND      -13.93   26.485937     794.578125   \n",
       "16  CALL CENTER REPRESENTATIVE INBOUND       -3.93  240.914000    4818.280000   \n",
       "17  CALL CENTER REPRESENTATIVE INBOUND       -3.93  390.376800    7807.536000   \n",
       "\n",
       "    total_pay_H_MEAN  total_pay_H_MEDIAN  \n",
       "0         888.478172          865.109718  \n",
       "14       5329.584453         4908.104422  \n",
       "15        462.179609          425.629016  \n",
       "16       4203.949300         3871.487980  \n",
       "17       6812.075160         6273.355176  \n",
       "\n",
       "[5 rows x 53 columns]"
      ]
     },
     "execution_count": 8,
     "metadata": {},
     "output_type": "execute_result"
    }
   ],
   "source": [
    "def total_calc(df):\n",
    "    #input=cus_data\n",
    "    #prep for weighted average calc\n",
    "    #only keep est_hrs>0\n",
    "    \n",
    "    df['avg_pay_rate'] = pd.to_numeric(df['avg_pay_rate'])\n",
    "    df['H_MEAN'] = pd.to_numeric(df['H_MEAN'])\n",
    "    df['H_MEDIAN'] = pd.to_numeric(df['H_MEDIAN'])\n",
    "    #df['pr_vsmean']=df['H_MEAN']-df['avg_pay_rate']\n",
    "    df['pr_vsmedian']=df['H_MEDIAN']-df['avg_pay_rate']\n",
    "    #df['perc']=df['H_MEDIAN']/df['avg_pay_rate']-1\n",
    "     \n",
    "    #df['potential']=df['total_billed_amt'].astype(float)*df['perc']\n",
    "    df['est_hr']=df['total_billed_amt'].astype(float)/df['avg_bill_rate'].astype(float)\n",
    "    df['total_pay_amt']=df['est_hr']*df['avg_pay_rate'].astype(float)\n",
    "    df['total_pay_H_MEAN']=df['est_hr']*df['H_MEAN'].astype(float)\n",
    "    df['total_pay_H_MEDIAN']=df['est_hr']*df['H_MEDIAN'].astype(float)\n",
    "    df=df[df['est_hr'] > 0]\n",
    "    \n",
    "    return df\n",
    "\n",
    "\n",
    "cus_final=total_calc(cus_data)\n",
    "print(cus_final.shape)\n",
    "print(\"lost data from 772K to 689K due to removal of est_hr=0\")\n",
    "cus_final.head()\n",
    "\n",
    "#print(cus_final['potential'].sum())  ###"
   ]
  },
  {
   "cell_type": "code",
   "execution_count": 10,
   "metadata": {},
   "outputs": [
    {
     "name": "stdout",
     "output_type": "stream",
     "text": [
      "(14690, 4)\n"
     ]
    },
    {
     "data": {
      "text/html": [
       "<div>\n",
       "<style scoped>\n",
       "    .dataframe tbody tr th:only-of-type {\n",
       "        vertical-align: middle;\n",
       "    }\n",
       "\n",
       "    .dataframe tbody tr th {\n",
       "        vertical-align: top;\n",
       "    }\n",
       "\n",
       "    .dataframe thead th {\n",
       "        text-align: right;\n",
       "    }\n",
       "</style>\n",
       "<table border=\"1\" class=\"dataframe\">\n",
       "  <thead>\n",
       "    <tr style=\"text-align: right;\">\n",
       "      <th></th>\n",
       "      <th>cust_id</th>\n",
       "      <th>branch_code</th>\n",
       "      <th>WA_H_MEAN</th>\n",
       "      <th>WA_H_MEDIAN</th>\n",
       "    </tr>\n",
       "  </thead>\n",
       "  <tbody>\n",
       "    <tr>\n",
       "      <th>0</th>\n",
       "      <td>1000000011</td>\n",
       "      <td>19092</td>\n",
       "      <td>15.110000</td>\n",
       "      <td>14.610000</td>\n",
       "    </tr>\n",
       "    <tr>\n",
       "      <th>1</th>\n",
       "      <td>1000000011</td>\n",
       "      <td>19131</td>\n",
       "      <td>16.015298</td>\n",
       "      <td>15.444655</td>\n",
       "    </tr>\n",
       "    <tr>\n",
       "      <th>2</th>\n",
       "      <td>1000002326</td>\n",
       "      <td>48010</td>\n",
       "      <td>20.910000</td>\n",
       "      <td>19.900000</td>\n",
       "    </tr>\n",
       "    <tr>\n",
       "      <th>3</th>\n",
       "      <td>1000002366</td>\n",
       "      <td>18020</td>\n",
       "      <td>12.800000</td>\n",
       "      <td>11.650000</td>\n",
       "    </tr>\n",
       "    <tr>\n",
       "      <th>4</th>\n",
       "      <td>1000002374</td>\n",
       "      <td>18016</td>\n",
       "      <td>14.370000</td>\n",
       "      <td>13.530000</td>\n",
       "    </tr>\n",
       "  </tbody>\n",
       "</table>\n",
       "</div>"
      ],
      "text/plain": [
       "      cust_id branch_code  WA_H_MEAN  WA_H_MEDIAN\n",
       "0  1000000011       19092  15.110000    14.610000\n",
       "1  1000000011       19131  16.015298    15.444655\n",
       "2  1000002326       48010  20.910000    19.900000\n",
       "3  1000002366       18020  12.800000    11.650000\n",
       "4  1000002374       18016  14.370000    13.530000"
      ]
     },
     "execution_count": 10,
     "metadata": {},
     "output_type": "execute_result"
    }
   ],
   "source": [
    "# calculate weighted average rates \n",
    "# at cust and branch level (removal of job cate level)\n",
    "\n",
    "def groupby_func(df):\n",
    "    #input=cus_final\n",
    "    #remove job_desc level on weighted avg base\n",
    "    #only with cus_id & beanch code level\n",
    "    \n",
    "    grouped_df = df.groupby(['cust_id', 'branch_code']).agg({'total_pay_amt': sum,'total_pay_H_MEAN': sum,\n",
    "                                                             'total_pay_H_MEDIAN': sum,'est_hr': sum })\n",
    "    grouped_df = grouped_df.reset_index()\n",
    "    grouped_df[\"WA_H_MEAN\"]=grouped_df[\"total_pay_H_MEAN\"]/grouped_df['est_hr']\n",
    "    grouped_df[\"WA_H_MEDIAN\"]=grouped_df[\"total_pay_H_MEDIAN\"]/grouped_df['est_hr']\n",
    "    #grouped_df['cust_id']=grouped_df['cust_id']\n",
    "    #grouped_df['branch_code']=grouped_df['branch_code']\n",
    "    grouped_df[[\"cust_id\", \"branch_code\"]] = grouped_df[[\"cust_id\", \"branch_code\"]].astype(str) \n",
    "    \n",
    "    colname=[\"cust_id\", \"branch_code\",\"WA_H_MEAN\", \"WA_H_MEDIAN\"]\n",
    "    \n",
    "    return grouped_df[colname]\n",
    "\n",
    "\n",
    "cus_shorten=groupby_func(cus_final)\n",
    "print(cus_shorten.shape)\n",
    "cus_shorten.head()\n"
   ]
  },
  {
   "cell_type": "markdown",
   "metadata": {},
   "source": [
    "Hyperion Data cleanse- STEP b customer view\n",
    "is payrate > bls\n",
    "pay rate above bls at what vol %\n",
    "if >80% of vol above, custoemr tend to pay fairly "
   ]
  },
  {
   "cell_type": "code",
   "execution_count": 11,
   "metadata": {},
   "outputs": [],
   "source": [
    "# hyp_data only\n",
    "# hyp_data with cus_shorten (on cust_id and branch_code)\n",
    "\n",
    "def hypdataclean(cus_data, mydata):\n",
    "    #input=cus_data, only for mapping concept\n",
    "    #cleanse hyp data\n",
    "    #map hyp data with concept\n",
    "    \n",
    "    hypdata=pd.read_csv('hypdata.csv',encoding='latin-1')\n",
    "    hypdata = hypdata[hypdata.cust_code != 'No Customer']\n",
    "    hypdata['cust_id'] = hypdata['cust_code'].str.replace(r'\\D', '')\n",
    "    hypdata2 = hypdata[['cust_id', 'cust_name','branch_code','branch_desc','Total Paid Hours','Gross Margin %','Average Regular Time Pay Rate', \"Average Regular Time Bill Rate\"]]\n",
    "        \n",
    "    conceptmap=mydata[['branch_code', 'concept_desc']]\n",
    "    conceptmap=conceptmap.drop_duplicates(subset='branch_code', keep=\"last\")\n",
    "    conceptmap['branch_code']=conceptmap['branch_code'].astype(float)\n",
    "    hypdata3=pd.merge(hypdata2,conceptmap,on='branch_code',how=\"left\")\n",
    "    \n",
    "    final_hyp = hypdata3[hypdata3['concept_desc'].notnull()]\n",
    "    final_hyp['cust_id']=final_hyp['cust_id'].astype(str)\n",
    "    final_hyp['branch_code']=final_hyp['branch_code'].astype(str)\n",
    "    \n",
    "    final_hyp=final_hyp.drop(columns=['cust_name','branch_desc'])\n",
    "    \n",
    "    return final_hyp\n",
    "    "
   ]
  },
  {
   "cell_type": "code",
   "execution_count": 12,
   "metadata": {},
   "outputs": [
    {
     "name": "stdout",
     "output_type": "stream",
     "text": [
      "(29034, 7)\n"
     ]
    },
    {
     "data": {
      "text/html": [
       "<div>\n",
       "<style scoped>\n",
       "    .dataframe tbody tr th:only-of-type {\n",
       "        vertical-align: middle;\n",
       "    }\n",
       "\n",
       "    .dataframe tbody tr th {\n",
       "        vertical-align: top;\n",
       "    }\n",
       "\n",
       "    .dataframe thead th {\n",
       "        text-align: right;\n",
       "    }\n",
       "</style>\n",
       "<table border=\"1\" class=\"dataframe\">\n",
       "  <thead>\n",
       "    <tr style=\"text-align: right;\">\n",
       "      <th></th>\n",
       "      <th>cust_id</th>\n",
       "      <th>branch_code</th>\n",
       "      <th>Total Paid Hours</th>\n",
       "      <th>Gross Margin %</th>\n",
       "      <th>Average Regular Time Pay Rate</th>\n",
       "      <th>Average Regular Time Bill Rate</th>\n",
       "      <th>concept_desc</th>\n",
       "    </tr>\n",
       "  </thead>\n",
       "  <tbody>\n",
       "    <tr>\n",
       "      <th>0</th>\n",
       "      <td>2000988970</td>\n",
       "      <td>30099</td>\n",
       "      <td>522.43</td>\n",
       "      <td>0.278670</td>\n",
       "      <td>16.614381</td>\n",
       "      <td>26.549742</td>\n",
       "      <td>MC</td>\n",
       "    </tr>\n",
       "    <tr>\n",
       "      <th>1</th>\n",
       "      <td>2000988970</td>\n",
       "      <td>30024</td>\n",
       "      <td>56.52</td>\n",
       "      <td>0.291047</td>\n",
       "      <td>0.000000</td>\n",
       "      <td>0.000000</td>\n",
       "      <td>MC</td>\n",
       "    </tr>\n",
       "    <tr>\n",
       "      <th>2</th>\n",
       "      <td>2000931209</td>\n",
       "      <td>14388</td>\n",
       "      <td>256.00</td>\n",
       "      <td>0.052816</td>\n",
       "      <td>15.590000</td>\n",
       "      <td>29.980000</td>\n",
       "      <td>RIS</td>\n",
       "    </tr>\n",
       "    <tr>\n",
       "      <th>3</th>\n",
       "      <td>2001011169</td>\n",
       "      <td>19079</td>\n",
       "      <td>1997.08</td>\n",
       "      <td>0.198238</td>\n",
       "      <td>9.000000</td>\n",
       "      <td>12.909848</td>\n",
       "      <td>MC</td>\n",
       "    </tr>\n",
       "    <tr>\n",
       "      <th>4</th>\n",
       "      <td>2000608974</td>\n",
       "      <td>14388</td>\n",
       "      <td>2782.00</td>\n",
       "      <td>0.370994</td>\n",
       "      <td>15.836130</td>\n",
       "      <td>30.963026</td>\n",
       "      <td>RIS</td>\n",
       "    </tr>\n",
       "  </tbody>\n",
       "</table>\n",
       "</div>"
      ],
      "text/plain": [
       "      cust_id branch_code  Total Paid Hours  Gross Margin %  \\\n",
       "0  2000988970       30099            522.43        0.278670   \n",
       "1  2000988970       30024             56.52        0.291047   \n",
       "2  2000931209       14388            256.00        0.052816   \n",
       "3  2001011169       19079           1997.08        0.198238   \n",
       "4  2000608974       14388           2782.00        0.370994   \n",
       "\n",
       "   Average Regular Time Pay Rate  Average Regular Time Bill Rate concept_desc  \n",
       "0                      16.614381                       26.549742           MC  \n",
       "1                       0.000000                        0.000000           MC  \n",
       "2                      15.590000                       29.980000          RIS  \n",
       "3                       9.000000                       12.909848           MC  \n",
       "4                      15.836130                       30.963026          RIS  "
      ]
     },
     "execution_count": 12,
     "metadata": {},
     "output_type": "execute_result"
    }
   ],
   "source": [
    "final_hyp = hypdataclean(cus_data, mydata)\n",
    "\n",
    "print(final_hyp.shape)\n",
    "final_hyp.head()"
   ]
  },
  {
   "cell_type": "code",
   "execution_count": 91,
   "metadata": {
    "scrolled": true
   },
   "outputs": [
    {
     "name": "stdout",
     "output_type": "stream",
     "text": [
      "(14656, 9)\n",
      "based of cust_shorten shape, combine cust_short with final_hyp, being in H-mean/H_median\n"
     ]
    },
    {
     "data": {
      "text/html": [
       "<div>\n",
       "<style scoped>\n",
       "    .dataframe tbody tr th:only-of-type {\n",
       "        vertical-align: middle;\n",
       "    }\n",
       "\n",
       "    .dataframe tbody tr th {\n",
       "        vertical-align: top;\n",
       "    }\n",
       "\n",
       "    .dataframe thead th {\n",
       "        text-align: right;\n",
       "    }\n",
       "</style>\n",
       "<table border=\"1\" class=\"dataframe\">\n",
       "  <thead>\n",
       "    <tr style=\"text-align: right;\">\n",
       "      <th></th>\n",
       "      <th>cust_id</th>\n",
       "      <th>branch_code</th>\n",
       "      <th>Total Paid Hours</th>\n",
       "      <th>Gross Margin %</th>\n",
       "      <th>Average Regular Time Pay Rate</th>\n",
       "      <th>Average Regular Time Bill Rate</th>\n",
       "      <th>concept_desc</th>\n",
       "      <th>WA_H_MEAN</th>\n",
       "      <th>WA_H_MEDIAN</th>\n",
       "    </tr>\n",
       "  </thead>\n",
       "  <tbody>\n",
       "    <tr>\n",
       "      <th>0</th>\n",
       "      <td>2000931209</td>\n",
       "      <td>14388</td>\n",
       "      <td>256.00</td>\n",
       "      <td>0.052816</td>\n",
       "      <td>15.590000</td>\n",
       "      <td>29.980000</td>\n",
       "      <td>RIS</td>\n",
       "      <td>20.24</td>\n",
       "      <td>19.32</td>\n",
       "    </tr>\n",
       "    <tr>\n",
       "      <th>1</th>\n",
       "      <td>2000608974</td>\n",
       "      <td>14388</td>\n",
       "      <td>2782.00</td>\n",
       "      <td>0.370994</td>\n",
       "      <td>15.836130</td>\n",
       "      <td>30.963026</td>\n",
       "      <td>RIS</td>\n",
       "      <td>24.01</td>\n",
       "      <td>21.80</td>\n",
       "    </tr>\n",
       "    <tr>\n",
       "      <th>2</th>\n",
       "      <td>2001034584</td>\n",
       "      <td>26022</td>\n",
       "      <td>69.50</td>\n",
       "      <td>0.333377</td>\n",
       "      <td>15.000000</td>\n",
       "      <td>25.000000</td>\n",
       "      <td>MC</td>\n",
       "      <td>18.47</td>\n",
       "      <td>18.05</td>\n",
       "    </tr>\n",
       "    <tr>\n",
       "      <th>3</th>\n",
       "      <td>2001030715</td>\n",
       "      <td>18024</td>\n",
       "      <td>18.00</td>\n",
       "      <td>0.187843</td>\n",
       "      <td>17.333333</td>\n",
       "      <td>24.266667</td>\n",
       "      <td>MC</td>\n",
       "      <td>16.55</td>\n",
       "      <td>14.33</td>\n",
       "    </tr>\n",
       "    <tr>\n",
       "      <th>4</th>\n",
       "      <td>2001030715</td>\n",
       "      <td>39058</td>\n",
       "      <td>2509.34</td>\n",
       "      <td>0.175988</td>\n",
       "      <td>13.085543</td>\n",
       "      <td>18.319764</td>\n",
       "      <td>MC</td>\n",
       "      <td>15.28</td>\n",
       "      <td>15.22</td>\n",
       "    </tr>\n",
       "  </tbody>\n",
       "</table>\n",
       "</div>"
      ],
      "text/plain": [
       "      cust_id branch_code  Total Paid Hours  Gross Margin %  \\\n",
       "0  2000931209       14388            256.00        0.052816   \n",
       "1  2000608974       14388           2782.00        0.370994   \n",
       "2  2001034584       26022             69.50        0.333377   \n",
       "3  2001030715       18024             18.00        0.187843   \n",
       "4  2001030715       39058           2509.34        0.175988   \n",
       "\n",
       "   Average Regular Time Pay Rate  Average Regular Time Bill Rate concept_desc  \\\n",
       "0                      15.590000                       29.980000          RIS   \n",
       "1                      15.836130                       30.963026          RIS   \n",
       "2                      15.000000                       25.000000           MC   \n",
       "3                      17.333333                       24.266667           MC   \n",
       "4                      13.085543                       18.319764           MC   \n",
       "\n",
       "   WA_H_MEAN  WA_H_MEDIAN  \n",
       "0      20.24        19.32  \n",
       "1      24.01        21.80  \n",
       "2      18.47        18.05  \n",
       "3      16.55        14.33  \n",
       "4      15.28        15.22  "
      ]
     },
     "execution_count": 91,
     "metadata": {},
     "output_type": "execute_result"
    }
   ],
   "source": [
    "def hyp_with_WAH(final_hyp,cus_shorten):\n",
    "    # mainly bsaed on hyp_data\n",
    "    #bring WA_H_MEAN/MEDIAN\n",
    "    \n",
    "    new_df = final_hyp.merge(cus_shorten, on=['cust_id','branch_code'])\n",
    "    #new_df=new_df.drop(columns=['total_pay'])\n",
    "    \n",
    "    return new_df\n",
    "\n",
    "newdf=hyp_with_WAH(final_hyp,cus_shorten)\n",
    "print(newdf.shape)\n",
    "print(\"based of cust_shorten shape, combine cust_short with final_hyp, being in H-mean/H_median\")\n",
    "newdf.head()"
   ]
  },
  {
   "cell_type": "markdown",
   "metadata": {},
   "source": [
    "# Identify which cus from which BU having below BLS rates"
   ]
  },
  {
   "cell_type": "code",
   "execution_count": 17,
   "metadata": {},
   "outputs": [
    {
     "name": "stdout",
     "output_type": "stream",
     "text": [
      " out of 14656, there are 4708 are positive, with average above WAH--> generous (by cus by branch)\n",
      "(14656, 10)\n",
      "yes--> randstad pay>H_median\n"
     ]
    },
    {
     "data": {
      "text/html": [
       "<div>\n",
       "<style scoped>\n",
       "    .dataframe tbody tr th:only-of-type {\n",
       "        vertical-align: middle;\n",
       "    }\n",
       "\n",
       "    .dataframe tbody tr th {\n",
       "        vertical-align: top;\n",
       "    }\n",
       "\n",
       "    .dataframe thead th {\n",
       "        text-align: right;\n",
       "    }\n",
       "</style>\n",
       "<table border=\"1\" class=\"dataframe\">\n",
       "  <thead>\n",
       "    <tr style=\"text-align: right;\">\n",
       "      <th></th>\n",
       "      <th>cust_id</th>\n",
       "      <th>branch_code</th>\n",
       "      <th>Total Paid Hours</th>\n",
       "      <th>Gross Margin %</th>\n",
       "      <th>Average Regular Time Pay Rate</th>\n",
       "      <th>Average Regular Time Bill Rate</th>\n",
       "      <th>concept_desc</th>\n",
       "      <th>WA_H_MEAN</th>\n",
       "      <th>WA_H_MEDIAN</th>\n",
       "      <th>yesno</th>\n",
       "    </tr>\n",
       "  </thead>\n",
       "  <tbody>\n",
       "    <tr>\n",
       "      <th>0</th>\n",
       "      <td>2000931209</td>\n",
       "      <td>14388</td>\n",
       "      <td>256.00</td>\n",
       "      <td>0.052816</td>\n",
       "      <td>15.590000</td>\n",
       "      <td>29.980000</td>\n",
       "      <td>RIS</td>\n",
       "      <td>20.24</td>\n",
       "      <td>19.32</td>\n",
       "      <td>0</td>\n",
       "    </tr>\n",
       "    <tr>\n",
       "      <th>1</th>\n",
       "      <td>2000608974</td>\n",
       "      <td>14388</td>\n",
       "      <td>2782.00</td>\n",
       "      <td>0.370994</td>\n",
       "      <td>15.836130</td>\n",
       "      <td>30.963026</td>\n",
       "      <td>RIS</td>\n",
       "      <td>24.01</td>\n",
       "      <td>21.80</td>\n",
       "      <td>0</td>\n",
       "    </tr>\n",
       "    <tr>\n",
       "      <th>2</th>\n",
       "      <td>2001034584</td>\n",
       "      <td>26022</td>\n",
       "      <td>69.50</td>\n",
       "      <td>0.333377</td>\n",
       "      <td>15.000000</td>\n",
       "      <td>25.000000</td>\n",
       "      <td>MC</td>\n",
       "      <td>18.47</td>\n",
       "      <td>18.05</td>\n",
       "      <td>0</td>\n",
       "    </tr>\n",
       "    <tr>\n",
       "      <th>3</th>\n",
       "      <td>2001030715</td>\n",
       "      <td>18024</td>\n",
       "      <td>18.00</td>\n",
       "      <td>0.187843</td>\n",
       "      <td>17.333333</td>\n",
       "      <td>24.266667</td>\n",
       "      <td>MC</td>\n",
       "      <td>16.55</td>\n",
       "      <td>14.33</td>\n",
       "      <td>1</td>\n",
       "    </tr>\n",
       "    <tr>\n",
       "      <th>4</th>\n",
       "      <td>2001030715</td>\n",
       "      <td>39058</td>\n",
       "      <td>2509.34</td>\n",
       "      <td>0.175988</td>\n",
       "      <td>13.085543</td>\n",
       "      <td>18.319764</td>\n",
       "      <td>MC</td>\n",
       "      <td>15.28</td>\n",
       "      <td>15.22</td>\n",
       "      <td>0</td>\n",
       "    </tr>\n",
       "  </tbody>\n",
       "</table>\n",
       "</div>"
      ],
      "text/plain": [
       "      cust_id branch_code  Total Paid Hours  Gross Margin %  \\\n",
       "0  2000931209       14388            256.00        0.052816   \n",
       "1  2000608974       14388           2782.00        0.370994   \n",
       "2  2001034584       26022             69.50        0.333377   \n",
       "3  2001030715       18024             18.00        0.187843   \n",
       "4  2001030715       39058           2509.34        0.175988   \n",
       "\n",
       "   Average Regular Time Pay Rate  Average Regular Time Bill Rate concept_desc  \\\n",
       "0                      15.590000                       29.980000          RIS   \n",
       "1                      15.836130                       30.963026          RIS   \n",
       "2                      15.000000                       25.000000           MC   \n",
       "3                      17.333333                       24.266667           MC   \n",
       "4                      13.085543                       18.319764           MC   \n",
       "\n",
       "   WA_H_MEAN  WA_H_MEDIAN  yesno  \n",
       "0      20.24        19.32      0  \n",
       "1      24.01        21.80      0  \n",
       "2      18.47        18.05      0  \n",
       "3      16.55        14.33      1  \n",
       "4      15.28        15.22      0  "
      ]
     },
     "execution_count": 17,
     "metadata": {},
     "output_type": "execute_result"
    }
   ],
   "source": [
    "# use newdf (cleaned up)\n",
    "\n",
    "def abovebelow(df):\n",
    "    #input= newdf\n",
    "    \n",
    "    wiggleroom=0.01 ####******* modify****\n",
    "    \n",
    "    #df['total_pay']=df['Pay Rate']*df['Total Paid Hours']\n",
    "    \n",
    "    df['yesno']=(df['Average Regular Time Pay Rate']*(1+wiggleroom))>df['WA_H_MEDIAN']\n",
    "    \n",
    "    df[\"yesno\"] = df[\"yesno\"].astype(int)\n",
    "    \n",
    "    return df\n",
    "\n",
    "\n",
    "jwtest=abovebelow(newdf)\n",
    "tol_line=str(jwtest.shape[0])\n",
    "above_line=str(jwtest.yesno.sum())\n",
    "print(\" out of \"+ tol_line +\", there are \"+ above_line +\" are positive, with average above WAH--> generous (by cus by branch)\")\n",
    "print(jwtest.shape)\n",
    "print(\"yes--> randstad pay>H_median\")\n",
    "jwtest.head()\n",
    "\n",
    "#test=newdf['cust_id']\n",
    "#n = len(pd.unique(test))\n",
    "#n"
   ]
  },
  {
   "cell_type": "markdown",
   "metadata": {},
   "source": [
    "# yes/no, remove branch level, calc weighted average yes(hours)"
   ]
  },
  {
   "cell_type": "code",
   "execution_count": 63,
   "metadata": {},
   "outputs": [
    {
     "name": "stdout",
     "output_type": "stream",
     "text": [
      "weight=total hours with yes\n",
      "(10376, 7)\n"
     ]
    },
    {
     "data": {
      "text/html": [
       "<div>\n",
       "<style scoped>\n",
       "    .dataframe tbody tr th:only-of-type {\n",
       "        vertical-align: middle;\n",
       "    }\n",
       "\n",
       "    .dataframe tbody tr th {\n",
       "        vertical-align: top;\n",
       "    }\n",
       "\n",
       "    .dataframe thead th {\n",
       "        text-align: right;\n",
       "    }\n",
       "</style>\n",
       "<table border=\"1\" class=\"dataframe\">\n",
       "  <thead>\n",
       "    <tr style=\"text-align: right;\">\n",
       "      <th></th>\n",
       "      <th>cust_id</th>\n",
       "      <th>Total Paid Hours</th>\n",
       "      <th>weight</th>\n",
       "      <th>avg_pay</th>\n",
       "      <th>avg_H_MEDIAN</th>\n",
       "      <th>perc_weight</th>\n",
       "      <th>perc_prblsmore</th>\n",
       "    </tr>\n",
       "  </thead>\n",
       "  <tbody>\n",
       "    <tr>\n",
       "      <th>0</th>\n",
       "      <td>1000000011</td>\n",
       "      <td>1389.70</td>\n",
       "      <td>0.0</td>\n",
       "      <td>15.056851</td>\n",
       "      <td>15.43985</td>\n",
       "      <td>0.0</td>\n",
       "      <td>2.54</td>\n",
       "    </tr>\n",
       "    <tr>\n",
       "      <th>1</th>\n",
       "      <td>1000002326</td>\n",
       "      <td>136.25</td>\n",
       "      <td>0.0</td>\n",
       "      <td>15.000000</td>\n",
       "      <td>19.90000</td>\n",
       "      <td>0.0</td>\n",
       "      <td>32.67</td>\n",
       "    </tr>\n",
       "    <tr>\n",
       "      <th>2</th>\n",
       "      <td>1000002366</td>\n",
       "      <td>6251.50</td>\n",
       "      <td>6251.5</td>\n",
       "      <td>15.333054</td>\n",
       "      <td>11.65000</td>\n",
       "      <td>100.0</td>\n",
       "      <td>0.00</td>\n",
       "    </tr>\n",
       "    <tr>\n",
       "      <th>3</th>\n",
       "      <td>1000002374</td>\n",
       "      <td>10494.50</td>\n",
       "      <td>0.0</td>\n",
       "      <td>11.000000</td>\n",
       "      <td>13.53000</td>\n",
       "      <td>0.0</td>\n",
       "      <td>23.00</td>\n",
       "    </tr>\n",
       "    <tr>\n",
       "      <th>4</th>\n",
       "      <td>1000002381</td>\n",
       "      <td>102.00</td>\n",
       "      <td>102.0</td>\n",
       "      <td>15.000000</td>\n",
       "      <td>13.66000</td>\n",
       "      <td>100.0</td>\n",
       "      <td>0.00</td>\n",
       "    </tr>\n",
       "  </tbody>\n",
       "</table>\n",
       "</div>"
      ],
      "text/plain": [
       "      cust_id  Total Paid Hours  weight    avg_pay  avg_H_MEDIAN  perc_weight  \\\n",
       "0  1000000011           1389.70     0.0  15.056851      15.43985          0.0   \n",
       "1  1000002326            136.25     0.0  15.000000      19.90000          0.0   \n",
       "2  1000002366           6251.50  6251.5  15.333054      11.65000        100.0   \n",
       "3  1000002374          10494.50     0.0  11.000000      13.53000          0.0   \n",
       "4  1000002381            102.00   102.0  15.000000      13.66000        100.0   \n",
       "\n",
       "   perc_prblsmore  \n",
       "0            2.54  \n",
       "1           32.67  \n",
       "2            0.00  \n",
       "3           23.00  \n",
       "4            0.00  "
      ]
     },
     "execution_count": 63,
     "metadata": {},
     "output_type": "execute_result"
    }
   ],
   "source": [
    "#### Weights ####\n",
    "# calculate by customer weights above / below bls (removal of BU level)\n",
    "\n",
    "def cus_by_vol(newdf):\n",
    "    #input=newdf\n",
    "    #remove by branch level\n",
    "    #only customer level weighted avg pr\n",
    "    \n",
    "    df=abovebelow(newdf)\n",
    "    df[\"weight\"]=df['Total Paid Hours']*df['yesno']\n",
    "    \n",
    "    df['total_pay']=df['Average Regular Time Pay Rate']*df['Total Paid Hours']\n",
    "    df['total_H_MEDIAN']=df['WA_H_MEDIAN']*df['Total Paid Hours']\n",
    "    df['total_H_MEAN']=df['WA_H_MEAN']*df['Total Paid Hours']\n",
    "    \n",
    "    \n",
    "    df2 = df.groupby(['cust_id']).agg({'Total Paid Hours': sum,'weight': sum, 'total_pay':sum,\n",
    "                                     'total_H_MEDIAN':sum, 'total_H_MEAN':sum})\n",
    "    df2 = df2.reset_index()\n",
    "    df2[\"perc_weight\"]=round(df2['weight']/df2['Total Paid Hours']*100,2)\n",
    "    df2[\"avg_pay\"]=df2['total_pay']/df2['Total Paid Hours']\n",
    "    df2[\"avg_H_MEDIAN\"]=df2['total_H_MEDIAN']/df2['Total Paid Hours']\n",
    "    df2[\"avg_H_MEAN\"]=df2['total_H_MEAN']/df2['Total Paid Hours']\n",
    "    df2[\"perc_prblsmore\"]=round(((df2['avg_H_MEDIAN']/df2['avg_pay']-1)*100),2)\n",
    "    df2[\"perc_prblsmore\"][df2[\"perc_prblsmore\"] < 0] = 0\n",
    "    df2[\"perc_prblsmore\"][df2[\"perc_prblsmore\"] >1000] = 0\n",
    "    colname=['cust_id', 'Total Paid Hours', 'weight', 'avg_pay', 'avg_H_MEDIAN', 'perc_weight', 'perc_prblsmore' ]\n",
    "    df2=df2[colname]\n",
    "    \n",
    "    \n",
    "    # remove zeros in Total Hrs, avg_pay\n",
    "    df2=df2[df2['Total Paid Hours']>0]\n",
    "    df2=df2[df2['avg_pay']>0]\n",
    "        \n",
    "    return df2\n",
    "\n",
    "hyp_cus_calc=cus_by_vol(newdf)\n",
    "print(\"weight=total hours with yes\")\n",
    "print(hyp_cus_calc.shape)\n",
    "hyp_cus_calc.head()\n",
    "#hyp_cus_calc.to_csv('hyp_cus_calc.csv')"
   ]
  },
  {
   "cell_type": "markdown",
   "metadata": {},
   "source": [
    "# finalize the data, examination, scaling if needed\n",
    "\n",
    "rename it mydf=hyp_cus_calc"
   ]
  },
  {
   "cell_type": "code",
   "execution_count": 64,
   "metadata": {},
   "outputs": [],
   "source": [
    "mydf=hyp_cus_calc\n"
   ]
  },
  {
   "cell_type": "code",
   "execution_count": 92,
   "metadata": {
    "scrolled": true
   },
   "outputs": [
    {
     "data": {
      "text/html": [
       "<div>\n",
       "<style scoped>\n",
       "    .dataframe tbody tr th:only-of-type {\n",
       "        vertical-align: middle;\n",
       "    }\n",
       "\n",
       "    .dataframe tbody tr th {\n",
       "        vertical-align: top;\n",
       "    }\n",
       "\n",
       "    .dataframe thead th {\n",
       "        text-align: right;\n",
       "    }\n",
       "</style>\n",
       "<table border=\"1\" class=\"dataframe\">\n",
       "  <thead>\n",
       "    <tr style=\"text-align: right;\">\n",
       "      <th></th>\n",
       "      <th>cust_id</th>\n",
       "      <th>Total Paid Hours</th>\n",
       "      <th>weight</th>\n",
       "      <th>avg_pay</th>\n",
       "      <th>avg_H_MEDIAN</th>\n",
       "      <th>perc_weight</th>\n",
       "      <th>perc_prblsmore</th>\n",
       "    </tr>\n",
       "  </thead>\n",
       "  <tbody>\n",
       "    <tr>\n",
       "      <th>0</th>\n",
       "      <td>1000000011</td>\n",
       "      <td>1389.70</td>\n",
       "      <td>0.0</td>\n",
       "      <td>15.056851</td>\n",
       "      <td>15.43985</td>\n",
       "      <td>0.0</td>\n",
       "      <td>2.54</td>\n",
       "    </tr>\n",
       "    <tr>\n",
       "      <th>1</th>\n",
       "      <td>1000002326</td>\n",
       "      <td>136.25</td>\n",
       "      <td>0.0</td>\n",
       "      <td>15.000000</td>\n",
       "      <td>19.90000</td>\n",
       "      <td>0.0</td>\n",
       "      <td>32.67</td>\n",
       "    </tr>\n",
       "    <tr>\n",
       "      <th>2</th>\n",
       "      <td>1000002366</td>\n",
       "      <td>6251.50</td>\n",
       "      <td>6251.5</td>\n",
       "      <td>15.333054</td>\n",
       "      <td>11.65000</td>\n",
       "      <td>100.0</td>\n",
       "      <td>0.00</td>\n",
       "    </tr>\n",
       "    <tr>\n",
       "      <th>3</th>\n",
       "      <td>1000002374</td>\n",
       "      <td>10494.50</td>\n",
       "      <td>0.0</td>\n",
       "      <td>11.000000</td>\n",
       "      <td>13.53000</td>\n",
       "      <td>0.0</td>\n",
       "      <td>23.00</td>\n",
       "    </tr>\n",
       "    <tr>\n",
       "      <th>4</th>\n",
       "      <td>1000002381</td>\n",
       "      <td>102.00</td>\n",
       "      <td>102.0</td>\n",
       "      <td>15.000000</td>\n",
       "      <td>13.66000</td>\n",
       "      <td>100.0</td>\n",
       "      <td>0.00</td>\n",
       "    </tr>\n",
       "  </tbody>\n",
       "</table>\n",
       "</div>"
      ],
      "text/plain": [
       "      cust_id  Total Paid Hours  weight    avg_pay  avg_H_MEDIAN  perc_weight  \\\n",
       "0  1000000011           1389.70     0.0  15.056851      15.43985          0.0   \n",
       "1  1000002326            136.25     0.0  15.000000      19.90000          0.0   \n",
       "2  1000002366           6251.50  6251.5  15.333054      11.65000        100.0   \n",
       "3  1000002374          10494.50     0.0  11.000000      13.53000          0.0   \n",
       "4  1000002381            102.00   102.0  15.000000      13.66000        100.0   \n",
       "\n",
       "   perc_prblsmore  \n",
       "0            2.54  \n",
       "1           32.67  \n",
       "2            0.00  \n",
       "3           23.00  \n",
       "4            0.00  "
      ]
     },
     "execution_count": 92,
     "metadata": {},
     "output_type": "execute_result"
    }
   ],
   "source": [
    "# exclude perc_weight=100-- they are generous cuatomers\n",
    "#for the ones filtered out, they are generous customers that \n",
    "# we can go back to them ask for an 100% match to bls if they are below\n",
    "# as for perc_prblsmore, zero meaning it is already higher than that, generour customer!\n",
    "\n",
    "mydf2=mydf[(mydf[\"perc_weight\"] < 99) & (mydf[\"perc_weight\"] != 0)&(mydf[\"perc_prblsmore\"] != 0)]\n",
    "\n",
    "rest_of_df=mydf.loc[mydf.index.difference(mydf2.index)]\n",
    "rest_of_df.head()"
   ]
  },
  {
   "cell_type": "code",
   "execution_count": 93,
   "metadata": {},
   "outputs": [],
   "source": [
    "mydf['log_perc_weight']=np.log(mydf['perc_weight']+1)\n",
    "mydf['log_perc_prblsmore']=np.log(mydf['perc_prblsmore']+1)"
   ]
  },
  {
   "cell_type": "code",
   "execution_count": 94,
   "metadata": {},
   "outputs": [],
   "source": [
    "mydf2['log_perc_weight']=np.log(mydf2['perc_weight']+1)\n",
    "mydf2['log_perc_prblsmore']=np.log(mydf2['perc_prblsmore']+1)"
   ]
  },
  {
   "cell_type": "code",
   "execution_count": 95,
   "metadata": {},
   "outputs": [
    {
     "data": {
      "text/plain": [
       "Text(0, 0.5, 'perc_weight')"
      ]
     },
     "execution_count": 95,
     "metadata": {},
     "output_type": "execute_result"
    },
    {
     "data": {
      "image/png": "[encoded data removed]",
      "text/plain": [
       "<Figure size 432x288 with 1 Axes>"
      ]
     },
     "metadata": {},
     "output_type": "display_data"
    }
   ],
   "source": [
    "import pylab\n",
    "#pylab.scatter(x, y)\n",
    "perc_weight=mydf[['perc_weight']]\n",
    "perc_prblsmore=mydf[['perc_prblsmore']]\n",
    "pylab.scatter(perc_weight.index, perc_weight)\n",
    "pylab.xlabel('cust_id index')\n",
    "pylab.ylabel('perc_weight')"
   ]
  },
  {
   "cell_type": "code",
   "execution_count": 96,
   "metadata": {},
   "outputs": [
    {
     "data": {
      "text/plain": [
       "Text(0, 0.5, 'perc_prblsmore')"
      ]
     },
     "execution_count": 96,
     "metadata": {},
     "output_type": "execute_result"
    },
    {
     "data": {
      "image/png": "[encoded data removed]",
      "text/plain": [
       "<Figure size 432x288 with 1 Axes>"
      ]
     },
     "metadata": {},
     "output_type": "display_data"
    }
   ],
   "source": [
    "pylab.scatter(perc_prblsmore.index, perc_prblsmore)\n",
    "pylab.xlabel('cust_id index')\n",
    "pylab.ylabel('perc_prblsmore')"
   ]
  },
  {
   "cell_type": "code",
   "execution_count": 97,
   "metadata": {},
   "outputs": [
    {
     "data": {
      "text/plain": [
       "Text(0.5, 0, 'perc_weight')"
      ]
     },
     "execution_count": 97,
     "metadata": {},
     "output_type": "execute_result"
    },
    {
     "data": {
      "image/png": "[encoded data removed]",
      "text/plain": [
       "<Figure size 432x288 with 1 Axes>"
      ]
     },
     "metadata": {},
     "output_type": "display_data"
    }
   ],
   "source": [
    "pylab.scatter(perc_weight,perc_prblsmore)\n",
    "pylab.ylabel('perc_prblsmore')\n",
    "pylab.xlabel('perc_weight')"
   ]
  },
  {
   "cell_type": "code",
   "execution_count": 98,
   "metadata": {},
   "outputs": [
    {
     "data": {
      "text/plain": [
       "<matplotlib.axes._subplots.AxesSubplot at 0x21126427da0>"
      ]
     },
     "execution_count": 98,
     "metadata": {},
     "output_type": "execute_result"
    },
    {
     "data": {
      "image/png": "[encoded data removed]",
      "text/plain": [
       "<Figure size 432x288 with 1 Axes>"
      ]
     },
     "metadata": {},
     "output_type": "display_data"
    }
   ],
   "source": [
    "import seaborn as sns\n",
    "sns.set_style('darkgrid')\n",
    "sns.distplot(mydf['perc_weight'])"
   ]
  },
  {
   "cell_type": "code",
   "execution_count": 99,
   "metadata": {},
   "outputs": [
    {
     "data": {
      "text/plain": [
       "<matplotlib.axes._subplots.AxesSubplot at 0x21125d67cc0>"
      ]
     },
     "execution_count": 99,
     "metadata": {},
     "output_type": "execute_result"
    },
    {
     "data": {
      "image/png": "[encoded data removed]",
      "text/plain": [
       "<Figure size 432x288 with 1 Axes>"
      ]
     },
     "metadata": {},
     "output_type": "display_data"
    }
   ],
   "source": [
    "sns.distplot(mydf['perc_prblsmore'])"
   ]
  },
  {
   "cell_type": "code",
   "execution_count": 100,
   "metadata": {},
   "outputs": [
    {
     "data": {
      "text/plain": [
       "<matplotlib.axes._subplots.AxesSubplot at 0x211265e5cc0>"
      ]
     },
     "execution_count": 100,
     "metadata": {},
     "output_type": "execute_result"
    },
    {
     "data": {
      "image/png": "[encoded data removed]",
      "text/plain": [
       "<Figure size 432x288 with 1 Axes>"
      ]
     },
     "metadata": {},
     "output_type": "display_data"
    }
   ],
   "source": [
    "sns.set_style('darkgrid')\n",
    "sns.distplot(mydf2['perc_weight'])"
   ]
  },
  {
   "cell_type": "code",
   "execution_count": 101,
   "metadata": {},
   "outputs": [
    {
     "data": {
      "text/plain": [
       "<matplotlib.axes._subplots.AxesSubplot at 0x211266bbf98>"
      ]
     },
     "execution_count": 101,
     "metadata": {},
     "output_type": "execute_result"
    },
    {
     "data": {
      "image/png": "[encoded data removed]",
      "text/plain": [
       "<Figure size 432x288 with 1 Axes>"
      ]
     },
     "metadata": {},
     "output_type": "display_data"
    }
   ],
   "source": [
    "sns.distplot(mydf2['perc_prblsmore'])"
   ]
  },
  {
   "cell_type": "code",
   "execution_count": 102,
   "metadata": {},
   "outputs": [
    {
     "data": {
      "text/plain": [
       "<matplotlib.axes._subplots.AxesSubplot at 0x2112678eef0>"
      ]
     },
     "execution_count": 102,
     "metadata": {},
     "output_type": "execute_result"
    },
    {
     "data": {
      "image/png": "[encoded data removed]",
      "text/plain": [
       "<Figure size 432x288 with 1 Axes>"
      ]
     },
     "metadata": {},
     "output_type": "display_data"
    }
   ],
   "source": [
    "sns.set_style('darkgrid')\n",
    "sns.distplot(mydf2['log_perc_weight'])"
   ]
  },
  {
   "cell_type": "code",
   "execution_count": 103,
   "metadata": {},
   "outputs": [
    {
     "data": {
      "text/plain": [
       "<matplotlib.axes._subplots.AxesSubplot at 0x2112681cfd0>"
      ]
     },
     "execution_count": 103,
     "metadata": {},
     "output_type": "execute_result"
    },
    {
     "data": {
      "image/png": "[encoded data removed]",
      "text/plain": [
       "<Figure size 432x288 with 1 Axes>"
      ]
     },
     "metadata": {},
     "output_type": "display_data"
    }
   ],
   "source": [
    "sns.distplot(mydf2['log_perc_prblsmore'])"
   ]
  },
  {
   "cell_type": "code",
   "execution_count": 104,
   "metadata": {},
   "outputs": [
    {
     "name": "stdout",
     "output_type": "stream",
     "text": [
      "result of graph doesn't recommend this transformation\n"
     ]
    }
   ],
   "source": [
    "from sklearn.preprocessing import StandardScaler\n",
    "import numpy as np\n",
    "\n",
    "\n",
    "scaler = StandardScaler()\n",
    "scaled_data = scaler.fit_transform(mydf2.iloc[:,5:7].to_numpy())\n",
    "\n",
    "scaled_perc_weight=scaled_data[:,0]\n",
    "scaled_perc_prblsmore=scaled_data[:,1]\n",
    "print(\"result of graph doesn't recommend this transformation\")"
   ]
  },
  {
   "cell_type": "code",
   "execution_count": 105,
   "metadata": {},
   "outputs": [
    {
     "data": {
      "text/plain": [
       "<matplotlib.axes._subplots.AxesSubplot at 0x211267c8f60>"
      ]
     },
     "execution_count": 105,
     "metadata": {},
     "output_type": "execute_result"
    },
    {
     "data": {
      "image/png": "[encoded data removed]",
      "text/plain": [
       "<Figure size 432x288 with 1 Axes>"
      ]
     },
     "metadata": {},
     "output_type": "display_data"
    }
   ],
   "source": [
    "sns.distplot(scaled_perc_weight)"
   ]
  },
  {
   "cell_type": "code",
   "execution_count": 106,
   "metadata": {},
   "outputs": [
    {
     "data": {
      "text/plain": [
       "<matplotlib.axes._subplots.AxesSubplot at 0x2112690b518>"
      ]
     },
     "execution_count": 106,
     "metadata": {},
     "output_type": "execute_result"
    },
    {
     "data": {
      "image/png": "[encoded data removed]",
      "text/plain": [
       "<Figure size 432x288 with 1 Axes>"
      ]
     },
     "metadata": {},
     "output_type": "display_data"
    }
   ],
   "source": [
    "sns.distplot(scaled_perc_prblsmore)"
   ]
  },
  {
   "cell_type": "code",
   "execution_count": 107,
   "metadata": {},
   "outputs": [
    {
     "name": "stdout",
     "output_type": "stream",
     "text": [
      "comparing the graphs, recommend this transformation\n"
     ]
    }
   ],
   "source": [
    "from scipy import stats\n",
    "normalized_data_0,_ = stats.boxcox(mydf2.iloc[:,5].to_numpy())  ###-->weight\n",
    "normalized_data_1,_ = stats.boxcox(mydf2.iloc[:,6].to_numpy()+1)###-->prblsmore\n",
    "\n",
    "print(\"comparing the graphs, recommend this transformation\")"
   ]
  },
  {
   "cell_type": "code",
   "execution_count": 108,
   "metadata": {},
   "outputs": [
    {
     "data": {
      "text/plain": [
       "<matplotlib.axes._subplots.AxesSubplot at 0x2112744eb38>"
      ]
     },
     "execution_count": 108,
     "metadata": {},
     "output_type": "execute_result"
    },
    {
     "data": {
      "image/png": "[encoded data removed]",
      "text/plain": [
       "<Figure size 432x288 with 1 Axes>"
      ]
     },
     "metadata": {},
     "output_type": "display_data"
    }
   ],
   "source": [
    "sns.distplot(normalized_data_0)"
   ]
  },
  {
   "cell_type": "code",
   "execution_count": 109,
   "metadata": {},
   "outputs": [
    {
     "data": {
      "text/plain": [
       "<matplotlib.axes._subplots.AxesSubplot at 0x2112fe1d2b0>"
      ]
     },
     "execution_count": 109,
     "metadata": {},
     "output_type": "execute_result"
    },
    {
     "data": {
      "image/png": "[encoded data removed]",
      "text/plain": [
       "<Figure size 432x288 with 1 Axes>"
      ]
     },
     "metadata": {},
     "output_type": "display_data"
    }
   ],
   "source": [
    "sns.distplot(normalized_data_1)"
   ]
  },
  {
   "cell_type": "code",
   "execution_count": 110,
   "metadata": {},
   "outputs": [],
   "source": [
    "def finalizemydf2(mydf2):\n",
    "    newdf=mydf2.drop(columns=['perc_weight', 'perc_prblsmore','log_perc_weight','log_perc_prblsmore'])\n",
    "    newdf['perc_weight']=normalized_data_0\n",
    "    newdf['perc_prblsmore']=normalized_data_1\n",
    "    return newdf"
   ]
  },
  {
   "cell_type": "code",
   "execution_count": 111,
   "metadata": {},
   "outputs": [
    {
     "data": {
      "text/html": [
       "<div>\n",
       "<style scoped>\n",
       "    .dataframe tbody tr th:only-of-type {\n",
       "        vertical-align: middle;\n",
       "    }\n",
       "\n",
       "    .dataframe tbody tr th {\n",
       "        vertical-align: top;\n",
       "    }\n",
       "\n",
       "    .dataframe thead th {\n",
       "        text-align: right;\n",
       "    }\n",
       "</style>\n",
       "<table border=\"1\" class=\"dataframe\">\n",
       "  <thead>\n",
       "    <tr style=\"text-align: right;\">\n",
       "      <th></th>\n",
       "      <th>cust_id</th>\n",
       "      <th>Total Paid Hours</th>\n",
       "      <th>weight</th>\n",
       "      <th>avg_pay</th>\n",
       "      <th>avg_H_MEDIAN</th>\n",
       "      <th>perc_weight</th>\n",
       "      <th>perc_prblsmore</th>\n",
       "    </tr>\n",
       "  </thead>\n",
       "  <tbody>\n",
       "    <tr>\n",
       "      <th>25</th>\n",
       "      <td>1000004350</td>\n",
       "      <td>130823.81</td>\n",
       "      <td>7088.70</td>\n",
       "      <td>12.774449</td>\n",
       "      <td>15.398660</td>\n",
       "      <td>2.219029</td>\n",
       "      <td>3.642678</td>\n",
       "    </tr>\n",
       "    <tr>\n",
       "      <th>35</th>\n",
       "      <td>1000005773</td>\n",
       "      <td>66719.54</td>\n",
       "      <td>222.18</td>\n",
       "      <td>9.828270</td>\n",
       "      <td>13.338015</td>\n",
       "      <td>-0.938803</td>\n",
       "      <td>4.408339</td>\n",
       "    </tr>\n",
       "    <tr>\n",
       "      <th>42</th>\n",
       "      <td>1000006361</td>\n",
       "      <td>3724.30</td>\n",
       "      <td>42.96</td>\n",
       "      <td>13.922479</td>\n",
       "      <td>18.393537</td>\n",
       "      <td>0.142822</td>\n",
       "      <td>4.256634</td>\n",
       "    </tr>\n",
       "    <tr>\n",
       "      <th>44</th>\n",
       "      <td>1000006555</td>\n",
       "      <td>25010.41</td>\n",
       "      <td>4165.31</td>\n",
       "      <td>15.656898</td>\n",
       "      <td>16.519149</td>\n",
       "      <td>4.479573</td>\n",
       "      <td>2.077194</td>\n",
       "    </tr>\n",
       "    <tr>\n",
       "      <th>50</th>\n",
       "      <td>1000007991</td>\n",
       "      <td>1187.31</td>\n",
       "      <td>575.00</td>\n",
       "      <td>16.167913</td>\n",
       "      <td>16.381406</td>\n",
       "      <td>7.493987</td>\n",
       "      <td>0.881164</td>\n",
       "    </tr>\n",
       "  </tbody>\n",
       "</table>\n",
       "</div>"
      ],
      "text/plain": [
       "       cust_id  Total Paid Hours   weight    avg_pay  avg_H_MEDIAN  \\\n",
       "25  1000004350         130823.81  7088.70  12.774449     15.398660   \n",
       "35  1000005773          66719.54   222.18   9.828270     13.338015   \n",
       "42  1000006361           3724.30    42.96  13.922479     18.393537   \n",
       "44  1000006555          25010.41  4165.31  15.656898     16.519149   \n",
       "50  1000007991           1187.31   575.00  16.167913     16.381406   \n",
       "\n",
       "    perc_weight  perc_prblsmore  \n",
       "25     2.219029        3.642678  \n",
       "35    -0.938803        4.408339  \n",
       "42     0.142822        4.256634  \n",
       "44     4.479573        2.077194  \n",
       "50     7.493987        0.881164  "
      ]
     },
     "execution_count": 111,
     "metadata": {},
     "output_type": "execute_result"
    }
   ],
   "source": [
    "mydf3=finalizemydf2(mydf2)\n",
    "mydf3.head()"
   ]
  },
  {
   "cell_type": "markdown",
   "metadata": {},
   "source": [
    "# clutering modeling and elbow graph after scaling data"
   ]
  },
  {
   "cell_type": "code",
   "execution_count": 112,
   "metadata": {},
   "outputs": [],
   "source": [
    "import numpy as np\n",
    "import pandas as pd\n",
    "from matplotlib import pyplot as plt\n",
    "from sklearn.cluster import KMeans"
   ]
  },
  {
   "cell_type": "code",
   "execution_count": 113,
   "metadata": {},
   "outputs": [],
   "source": [
    "def makecluster(orig_mydf, datax, cluster_count):\n",
    "    kmeans = KMeans(cluster_count)\n",
    "    kmeans.fit(datax)\n",
    "    identified_clusters = kmeans.fit_predict(datax)\n",
    "    mydf_with_clusters = orig_mydf.copy()\n",
    "    mydf_with_clusters['Clusters'] = identified_clusters \n",
    "    cluster_result=mydf_with_clusters\n",
    "    return cluster_result\n",
    "    \n",
    "def plotcluster(dfcluster):\n",
    "    plt.scatter(dfcluster['perc_weight'], dfcluster['perc_prblsmore'], c=dfcluster['Clusters'],cmap='Set3')\n",
    "\n",
    "    \n",
    "def elbow(datax):\n",
    "    rangeend=10\n",
    "    wcss=[]\n",
    "    for i in range(1,rangeend):\n",
    "        kmeans= KMeans(i)\n",
    "        kmeans.fit(datax)\n",
    "        wcss_iter = kmeans.inertia_\n",
    "        wcss.append(wcss_iter)\n",
    "\n",
    "    number_clusters = range(1,rangeend)\n",
    "    plt.plot(number_clusters,wcss)\n",
    "    plt.title('Elbow Chart')\n",
    "    plt.xlabel('Number of clusters')\n",
    "    plt.ylabel('WCSS')"
   ]
  },
  {
   "cell_type": "code",
   "execution_count": 114,
   "metadata": {},
   "outputs": [
    {
     "data": {
      "text/html": [
       "<div>\n",
       "<style scoped>\n",
       "    .dataframe tbody tr th:only-of-type {\n",
       "        vertical-align: middle;\n",
       "    }\n",
       "\n",
       "    .dataframe tbody tr th {\n",
       "        vertical-align: top;\n",
       "    }\n",
       "\n",
       "    .dataframe thead th {\n",
       "        text-align: right;\n",
       "    }\n",
       "</style>\n",
       "<table border=\"1\" class=\"dataframe\">\n",
       "  <thead>\n",
       "    <tr style=\"text-align: right;\">\n",
       "      <th></th>\n",
       "      <th>cust_id</th>\n",
       "      <th>Total Paid Hours</th>\n",
       "      <th>weight</th>\n",
       "      <th>avg_pay</th>\n",
       "      <th>avg_H_MEDIAN</th>\n",
       "      <th>perc_weight</th>\n",
       "      <th>perc_prblsmore</th>\n",
       "      <th>log_perc_weight</th>\n",
       "      <th>log_perc_prblsmore</th>\n",
       "      <th>Clusters</th>\n",
       "    </tr>\n",
       "  </thead>\n",
       "  <tbody>\n",
       "    <tr>\n",
       "      <th>0</th>\n",
       "      <td>1000000011</td>\n",
       "      <td>1389.70</td>\n",
       "      <td>0.0</td>\n",
       "      <td>15.056851</td>\n",
       "      <td>15.43985</td>\n",
       "      <td>0.0</td>\n",
       "      <td>2.54</td>\n",
       "      <td>0.000000</td>\n",
       "      <td>1.264127</td>\n",
       "      <td>1</td>\n",
       "    </tr>\n",
       "    <tr>\n",
       "      <th>1</th>\n",
       "      <td>1000002326</td>\n",
       "      <td>136.25</td>\n",
       "      <td>0.0</td>\n",
       "      <td>15.000000</td>\n",
       "      <td>19.90000</td>\n",
       "      <td>0.0</td>\n",
       "      <td>32.67</td>\n",
       "      <td>0.000000</td>\n",
       "      <td>3.516607</td>\n",
       "      <td>2</td>\n",
       "    </tr>\n",
       "    <tr>\n",
       "      <th>2</th>\n",
       "      <td>1000002366</td>\n",
       "      <td>6251.50</td>\n",
       "      <td>6251.5</td>\n",
       "      <td>15.333054</td>\n",
       "      <td>11.65000</td>\n",
       "      <td>100.0</td>\n",
       "      <td>0.00</td>\n",
       "      <td>4.615121</td>\n",
       "      <td>0.000000</td>\n",
       "      <td>0</td>\n",
       "    </tr>\n",
       "    <tr>\n",
       "      <th>3</th>\n",
       "      <td>1000002374</td>\n",
       "      <td>10494.50</td>\n",
       "      <td>0.0</td>\n",
       "      <td>11.000000</td>\n",
       "      <td>13.53000</td>\n",
       "      <td>0.0</td>\n",
       "      <td>23.00</td>\n",
       "      <td>0.000000</td>\n",
       "      <td>3.178054</td>\n",
       "      <td>1</td>\n",
       "    </tr>\n",
       "    <tr>\n",
       "      <th>4</th>\n",
       "      <td>1000002381</td>\n",
       "      <td>102.00</td>\n",
       "      <td>102.0</td>\n",
       "      <td>15.000000</td>\n",
       "      <td>13.66000</td>\n",
       "      <td>100.0</td>\n",
       "      <td>0.00</td>\n",
       "      <td>4.615121</td>\n",
       "      <td>0.000000</td>\n",
       "      <td>0</td>\n",
       "    </tr>\n",
       "  </tbody>\n",
       "</table>\n",
       "</div>"
      ],
      "text/plain": [
       "      cust_id  Total Paid Hours  weight    avg_pay  avg_H_MEDIAN  perc_weight  \\\n",
       "0  1000000011           1389.70     0.0  15.056851      15.43985          0.0   \n",
       "1  1000002326            136.25     0.0  15.000000      19.90000          0.0   \n",
       "2  1000002366           6251.50  6251.5  15.333054      11.65000        100.0   \n",
       "3  1000002374          10494.50     0.0  11.000000      13.53000          0.0   \n",
       "4  1000002381            102.00   102.0  15.000000      13.66000        100.0   \n",
       "\n",
       "   perc_prblsmore  log_perc_weight  log_perc_prblsmore  Clusters  \n",
       "0            2.54         0.000000            1.264127         1  \n",
       "1           32.67         0.000000            3.516607         2  \n",
       "2            0.00         4.615121            0.000000         0  \n",
       "3           23.00         0.000000            3.178054         1  \n",
       "4            0.00         4.615121            0.000000         0  "
      ]
     },
     "execution_count": 114,
     "metadata": {},
     "output_type": "execute_result"
    }
   ],
   "source": [
    "x = mydf.iloc[:,5:7]\n",
    "cluster_result_x=makecluster(mydf,x,3)\n",
    "cluster_result_x.head()"
   ]
  },
  {
   "cell_type": "code",
   "execution_count": 115,
   "metadata": {},
   "outputs": [
    {
     "data": {
      "image/png": "[encoded data removed]",
      "text/plain": [
       "<Figure size 432x288 with 1 Axes>"
      ]
     },
     "metadata": {},
     "output_type": "display_data"
    }
   ],
   "source": [
    "plotcluster(cluster_result_x)"
   ]
  },
  {
   "cell_type": "code",
   "execution_count": 116,
   "metadata": {},
   "outputs": [
    {
     "data": {
      "image/png": "[encoded data removed]",
      "text/plain": [
       "<Figure size 432x288 with 1 Axes>"
      ]
     },
     "metadata": {},
     "output_type": "display_data"
    }
   ],
   "source": [
    "elbow(x)"
   ]
  },
  {
   "cell_type": "code",
   "execution_count": 117,
   "metadata": {},
   "outputs": [
    {
     "data": {
      "text/html": [
       "<div>\n",
       "<style scoped>\n",
       "    .dataframe tbody tr th:only-of-type {\n",
       "        vertical-align: middle;\n",
       "    }\n",
       "\n",
       "    .dataframe tbody tr th {\n",
       "        vertical-align: top;\n",
       "    }\n",
       "\n",
       "    .dataframe thead th {\n",
       "        text-align: right;\n",
       "    }\n",
       "</style>\n",
       "<table border=\"1\" class=\"dataframe\">\n",
       "  <thead>\n",
       "    <tr style=\"text-align: right;\">\n",
       "      <th></th>\n",
       "      <th>cust_id</th>\n",
       "      <th>Total Paid Hours</th>\n",
       "      <th>weight</th>\n",
       "      <th>avg_pay</th>\n",
       "      <th>avg_H_MEDIAN</th>\n",
       "      <th>perc_weight</th>\n",
       "      <th>perc_prblsmore</th>\n",
       "      <th>Clusters</th>\n",
       "    </tr>\n",
       "  </thead>\n",
       "  <tbody>\n",
       "    <tr>\n",
       "      <th>25</th>\n",
       "      <td>1000004350</td>\n",
       "      <td>130823.81</td>\n",
       "      <td>7088.70</td>\n",
       "      <td>12.774449</td>\n",
       "      <td>15.398660</td>\n",
       "      <td>2.219029</td>\n",
       "      <td>3.642678</td>\n",
       "      <td>0</td>\n",
       "    </tr>\n",
       "    <tr>\n",
       "      <th>35</th>\n",
       "      <td>1000005773</td>\n",
       "      <td>66719.54</td>\n",
       "      <td>222.18</td>\n",
       "      <td>9.828270</td>\n",
       "      <td>13.338015</td>\n",
       "      <td>-0.938803</td>\n",
       "      <td>4.408339</td>\n",
       "      <td>3</td>\n",
       "    </tr>\n",
       "    <tr>\n",
       "      <th>42</th>\n",
       "      <td>1000006361</td>\n",
       "      <td>3724.30</td>\n",
       "      <td>42.96</td>\n",
       "      <td>13.922479</td>\n",
       "      <td>18.393537</td>\n",
       "      <td>0.142822</td>\n",
       "      <td>4.256634</td>\n",
       "      <td>3</td>\n",
       "    </tr>\n",
       "    <tr>\n",
       "      <th>44</th>\n",
       "      <td>1000006555</td>\n",
       "      <td>25010.41</td>\n",
       "      <td>4165.31</td>\n",
       "      <td>15.656898</td>\n",
       "      <td>16.519149</td>\n",
       "      <td>4.479573</td>\n",
       "      <td>2.077194</td>\n",
       "      <td>0</td>\n",
       "    </tr>\n",
       "    <tr>\n",
       "      <th>50</th>\n",
       "      <td>1000007991</td>\n",
       "      <td>1187.31</td>\n",
       "      <td>575.00</td>\n",
       "      <td>16.167913</td>\n",
       "      <td>16.381406</td>\n",
       "      <td>7.493987</td>\n",
       "      <td>0.881164</td>\n",
       "      <td>1</td>\n",
       "    </tr>\n",
       "  </tbody>\n",
       "</table>\n",
       "</div>"
      ],
      "text/plain": [
       "       cust_id  Total Paid Hours   weight    avg_pay  avg_H_MEDIAN  \\\n",
       "25  1000004350         130823.81  7088.70  12.774449     15.398660   \n",
       "35  1000005773          66719.54   222.18   9.828270     13.338015   \n",
       "42  1000006361           3724.30    42.96  13.922479     18.393537   \n",
       "44  1000006555          25010.41  4165.31  15.656898     16.519149   \n",
       "50  1000007991           1187.31   575.00  16.167913     16.381406   \n",
       "\n",
       "    perc_weight  perc_prblsmore  Clusters  \n",
       "25     2.219029        3.642678         0  \n",
       "35    -0.938803        4.408339         3  \n",
       "42     0.142822        4.256634         3  \n",
       "44     4.479573        2.077194         0  \n",
       "50     7.493987        0.881164         1  "
      ]
     },
     "execution_count": 117,
     "metadata": {},
     "output_type": "execute_result"
    }
   ],
   "source": [
    "xx = mydf3.iloc[:,5:7]\n",
    "cluster_result_xx=makecluster(mydf3,xx,4)\n",
    "cluster_result_xx.head()"
   ]
  },
  {
   "cell_type": "code",
   "execution_count": 118,
   "metadata": {},
   "outputs": [
    {
     "data": {
      "image/png": "[encoded data removed]",
      "text/plain": [
       "<Figure size 432x288 with 1 Axes>"
      ]
     },
     "metadata": {},
     "output_type": "display_data"
    }
   ],
   "source": [
    "plotcluster(cluster_result_xx)"
   ]
  },
  {
   "cell_type": "code",
   "execution_count": 119,
   "metadata": {},
   "outputs": [
    {
     "data": {
      "image/png": "[encoded data removed]",
      "text/plain": [
       "<Figure size 432x288 with 1 Axes>"
      ]
     },
     "metadata": {},
     "output_type": "display_data"
    }
   ],
   "source": [
    "elbow(xx)"
   ]
  },
  {
   "cell_type": "code",
   "execution_count": 120,
   "metadata": {},
   "outputs": [
    {
     "data": {
      "text/plain": [
       "<matplotlib.axes._subplots.AxesSubplot at 0x2113003ccf8>"
      ]
     },
     "execution_count": 120,
     "metadata": {},
     "output_type": "execute_result"
    },
    {
     "data": {
      "image/png": "[encoded data removed]",
      "text/plain": [
       "<Figure size 1152x576 with 1 Axes>"
      ]
     },
     "metadata": {},
     "output_type": "display_data"
    }
   ],
   "source": [
    "#customize colors so I know which is which category\n",
    "\n",
    "LABEL_COLOR_MAP = {0 : 'lightskyblue',\n",
    "                   1 : 'gold',\n",
    "                   2 : 'yellowgreen',\n",
    "                   3 : 'lightcoral'}\n",
    "\n",
    "\n",
    "cluster_result_xx.plot(\n",
    "        kind='scatter',\n",
    "        x='perc_weight',y='perc_prblsmore',\n",
    "        c=cluster_result_xx.Clusters.map(LABEL_COLOR_MAP), \n",
    "        figsize=(16,8))"
   ]
  },
  {
   "cell_type": "code",
   "execution_count": 169,
   "metadata": {},
   "outputs": [],
   "source": [
    "# This can be set differently!!#\n",
    "\n",
    "def tidyresults(df):\n",
    "    #input df= cluster_result_xx\n",
    "    \n",
    "    df.loc[df['Clusters'] ==2 , 'decision'] = 0.80,\n",
    "    df.loc[df['Clusters'] ==3 , 'decision'] = 0,\n",
    "    df.loc[df['Clusters'] ==1 , 'decision'] = 0.50,\n",
    "    df.loc[df['Clusters'] ==0 , 'decision'] = 0.20,\n",
    "    df=df.drop(columns='Clusters')\n",
    "    \n",
    "    return df\n"
   ]
  },
  {
   "cell_type": "code",
   "execution_count": 170,
   "metadata": {},
   "outputs": [
    {
     "data": {
      "text/html": [
       "<div>\n",
       "<style scoped>\n",
       "    .dataframe tbody tr th:only-of-type {\n",
       "        vertical-align: middle;\n",
       "    }\n",
       "\n",
       "    .dataframe tbody tr th {\n",
       "        vertical-align: top;\n",
       "    }\n",
       "\n",
       "    .dataframe thead th {\n",
       "        text-align: right;\n",
       "    }\n",
       "</style>\n",
       "<table border=\"1\" class=\"dataframe\">\n",
       "  <thead>\n",
       "    <tr style=\"text-align: right;\">\n",
       "      <th></th>\n",
       "      <th>cust_id</th>\n",
       "      <th>Total Paid Hours</th>\n",
       "      <th>weight</th>\n",
       "      <th>avg_pay</th>\n",
       "      <th>avg_H_MEDIAN</th>\n",
       "      <th>perc_weight</th>\n",
       "      <th>perc_prblsmore</th>\n",
       "      <th>decision</th>\n",
       "    </tr>\n",
       "  </thead>\n",
       "  <tbody>\n",
       "    <tr>\n",
       "      <th>25</th>\n",
       "      <td>1000004350</td>\n",
       "      <td>130823.81</td>\n",
       "      <td>7088.70</td>\n",
       "      <td>12.774449</td>\n",
       "      <td>15.398660</td>\n",
       "      <td>2.219029</td>\n",
       "      <td>3.642678</td>\n",
       "      <td>0.2</td>\n",
       "    </tr>\n",
       "    <tr>\n",
       "      <th>35</th>\n",
       "      <td>1000005773</td>\n",
       "      <td>66719.54</td>\n",
       "      <td>222.18</td>\n",
       "      <td>9.828270</td>\n",
       "      <td>13.338015</td>\n",
       "      <td>-0.938803</td>\n",
       "      <td>4.408339</td>\n",
       "      <td>0.0</td>\n",
       "    </tr>\n",
       "    <tr>\n",
       "      <th>42</th>\n",
       "      <td>1000006361</td>\n",
       "      <td>3724.30</td>\n",
       "      <td>42.96</td>\n",
       "      <td>13.922479</td>\n",
       "      <td>18.393537</td>\n",
       "      <td>0.142822</td>\n",
       "      <td>4.256634</td>\n",
       "      <td>0.0</td>\n",
       "    </tr>\n",
       "    <tr>\n",
       "      <th>44</th>\n",
       "      <td>1000006555</td>\n",
       "      <td>25010.41</td>\n",
       "      <td>4165.31</td>\n",
       "      <td>15.656898</td>\n",
       "      <td>16.519149</td>\n",
       "      <td>4.479573</td>\n",
       "      <td>2.077194</td>\n",
       "      <td>0.2</td>\n",
       "    </tr>\n",
       "    <tr>\n",
       "      <th>50</th>\n",
       "      <td>1000007991</td>\n",
       "      <td>1187.31</td>\n",
       "      <td>575.00</td>\n",
       "      <td>16.167913</td>\n",
       "      <td>16.381406</td>\n",
       "      <td>7.493987</td>\n",
       "      <td>0.881164</td>\n",
       "      <td>0.5</td>\n",
       "    </tr>\n",
       "  </tbody>\n",
       "</table>\n",
       "</div>"
      ],
      "text/plain": [
       "       cust_id  Total Paid Hours   weight    avg_pay  avg_H_MEDIAN  \\\n",
       "25  1000004350         130823.81  7088.70  12.774449     15.398660   \n",
       "35  1000005773          66719.54   222.18   9.828270     13.338015   \n",
       "42  1000006361           3724.30    42.96  13.922479     18.393537   \n",
       "44  1000006555          25010.41  4165.31  15.656898     16.519149   \n",
       "50  1000007991           1187.31   575.00  16.167913     16.381406   \n",
       "\n",
       "    perc_weight  perc_prblsmore  decision  \n",
       "25     2.219029        3.642678       0.2  \n",
       "35    -0.938803        4.408339       0.0  \n",
       "42     0.142822        4.256634       0.0  \n",
       "44     4.479573        2.077194       0.2  \n",
       "50     7.493987        0.881164       0.5  "
      ]
     },
     "execution_count": 170,
     "metadata": {},
     "output_type": "execute_result"
    }
   ],
   "source": [
    "prelim_decision=tidyresults(cluster_result_xx)\n",
    "prelim_decision.head()"
   ]
  },
  {
   "cell_type": "markdown",
   "metadata": {},
   "source": [
    "# recovery calculation"
   ]
  },
  {
   "cell_type": "code",
   "execution_count": 171,
   "metadata": {},
   "outputs": [],
   "source": [
    "def makefinaldecision(df1,df2):\n",
    "    #df1=prelim_decision\n",
    "    #df2=rest_of_df\n",
    "    \n",
    "    df2.loc[df2['perc_weight']>99, 'decision']=0\n",
    "    df2.loc[df2['perc_weight']==0, 'decision']=0\n",
    "    \n",
    "    result=pd.concat([df1, df2], ignore_index=True)\n",
    "    result=result.drop(columns=['perc_weight','perc_prblsmore', \"weight\"])\n",
    "    \n",
    "    return result"
   ]
  },
  {
   "cell_type": "code",
   "execution_count": 172,
   "metadata": {},
   "outputs": [
    {
     "name": "stdout",
     "output_type": "stream",
     "text": [
      "(10376, 5)\n"
     ]
    },
    {
     "data": {
      "text/html": [
       "<div>\n",
       "<style scoped>\n",
       "    .dataframe tbody tr th:only-of-type {\n",
       "        vertical-align: middle;\n",
       "    }\n",
       "\n",
       "    .dataframe tbody tr th {\n",
       "        vertical-align: top;\n",
       "    }\n",
       "\n",
       "    .dataframe thead th {\n",
       "        text-align: right;\n",
       "    }\n",
       "</style>\n",
       "<table border=\"1\" class=\"dataframe\">\n",
       "  <thead>\n",
       "    <tr style=\"text-align: right;\">\n",
       "      <th></th>\n",
       "      <th>cust_id</th>\n",
       "      <th>Total Paid Hours</th>\n",
       "      <th>avg_pay</th>\n",
       "      <th>avg_H_MEDIAN</th>\n",
       "      <th>decision</th>\n",
       "    </tr>\n",
       "  </thead>\n",
       "  <tbody>\n",
       "    <tr>\n",
       "      <th>0</th>\n",
       "      <td>1000004350</td>\n",
       "      <td>130823.81</td>\n",
       "      <td>12.774449</td>\n",
       "      <td>15.398660</td>\n",
       "      <td>0.2</td>\n",
       "    </tr>\n",
       "    <tr>\n",
       "      <th>1</th>\n",
       "      <td>1000005773</td>\n",
       "      <td>66719.54</td>\n",
       "      <td>9.828270</td>\n",
       "      <td>13.338015</td>\n",
       "      <td>0.0</td>\n",
       "    </tr>\n",
       "    <tr>\n",
       "      <th>2</th>\n",
       "      <td>1000006361</td>\n",
       "      <td>3724.30</td>\n",
       "      <td>13.922479</td>\n",
       "      <td>18.393537</td>\n",
       "      <td>0.0</td>\n",
       "    </tr>\n",
       "    <tr>\n",
       "      <th>3</th>\n",
       "      <td>1000006555</td>\n",
       "      <td>25010.41</td>\n",
       "      <td>15.656898</td>\n",
       "      <td>16.519149</td>\n",
       "      <td>0.2</td>\n",
       "    </tr>\n",
       "    <tr>\n",
       "      <th>4</th>\n",
       "      <td>1000007991</td>\n",
       "      <td>1187.31</td>\n",
       "      <td>16.167913</td>\n",
       "      <td>16.381406</td>\n",
       "      <td>0.5</td>\n",
       "    </tr>\n",
       "  </tbody>\n",
       "</table>\n",
       "</div>"
      ],
      "text/plain": [
       "      cust_id  Total Paid Hours    avg_pay  avg_H_MEDIAN  decision\n",
       "0  1000004350         130823.81  12.774449     15.398660       0.2\n",
       "1  1000005773          66719.54   9.828270     13.338015       0.0\n",
       "2  1000006361           3724.30  13.922479     18.393537       0.0\n",
       "3  1000006555          25010.41  15.656898     16.519149       0.2\n",
       "4  1000007991           1187.31  16.167913     16.381406       0.5"
      ]
     },
     "execution_count": 172,
     "metadata": {},
     "output_type": "execute_result"
    }
   ],
   "source": [
    "final_decision=makefinaldecision(prelim_decision,rest_of_df)\n",
    "print(final_decision.shape)\n",
    "final_decision.head()"
   ]
  },
  {
   "cell_type": "code",
   "execution_count": 173,
   "metadata": {},
   "outputs": [
    {
     "data": {
      "text/plain": [
       "(689791, 53)"
      ]
     },
     "execution_count": 173,
     "metadata": {},
     "output_type": "execute_result"
    }
   ],
   "source": [
    "cus_final.shape"
   ]
  },
  {
   "cell_type": "code",
   "execution_count": 174,
   "metadata": {},
   "outputs": [],
   "source": [
    "def cust_recovery(cusfinal,jwtest,finaldecision):\n",
    "    \n",
    "    #input:\n",
    "    #cusfinal=cust_final\n",
    "    #finaldecision=final_decision\n",
    "    #jwtest=jwtest\n",
    "    \n",
    "    \n",
    "    #######df type/class_fix &&& geodata####\n",
    "    cusfinal['cust_id'] = pd.to_numeric(cusfinal['cust_id'])\n",
    "    finaldecision['cust_id'] = pd.to_numeric(finaldecision['cust_id'])\n",
    "    jwtest['cust_id'] = pd.to_numeric(jwtest['cust_id'])\n",
    "    jwtest['branch_code'] = pd.to_numeric(jwtest['branch_code'])\n",
    "    \n",
    "    geodata=cus_final[['cust_id','branch_code','STATE','CITY','POSTAL','ws_latitude','ws_longitude']]\n",
    "    geodata['cust_id'] = pd.to_numeric(geodata['cust_id'])\n",
    "    geodata['branch_code'] = pd.to_numeric(geodata['branch_code'])\n",
    "    geodata=geodata.drop_duplicates()    \n",
    "    \n",
    "    ####------->>>>>>>>development of recovery based on cust_churn, tells cust, branch, job_OCC\n",
    "    \n",
    "    df=pd.merge(cusfinal,finaldecision,on='cust_id',how=\"inner\")\n",
    "    \n",
    "    df['pr_vsmedian'] = df['pr_vsmedian'].apply(lambda x : x if x > 0 else 0)\n",
    "    \n",
    "    df[\"Net_recovery_perc\"]=(df['pr_vsmedian']*df['decision']+df['avg_pay_rate'])/df['avg_pay_rate']-1\n",
    "    \n",
    "    df['recovery_amt']=df['total_billed_amt']*df[\"Net_recovery_perc\"]\n",
    "    \n",
    "\n",
    "    ####------->>>>>>>>>development of recovery based on hyperion data\n",
    "    \n",
    "    prep_decision=finaldecision.copy()\n",
    "    \n",
    "    df_hyp=pd.merge(jwtest,prep_decision,on='cust_id',how=\"inner\")\n",
    "    \n",
    "    df_hyp['pr_vsmedian'] = np.where(df_hyp['yesno'] != 1, \n",
    "                                     (df_hyp['WA_H_MEDIAN']-df_hyp['Average Regular Time Pay Rate']), 0)\n",
    "        \n",
    "    df_hyp[\"Net_recovery_perc\"]=(df_hyp['pr_vsmedian']*df_hyp['decision']+df_hyp['Average Regular Time Pay Rate'])/df_hyp['Average Regular Time Pay Rate']-1\n",
    "    \n",
    "\n",
    "    df_hyp['recovery_amt']=df_hyp['Average Regular Time Bill Rate']*df_hyp[\"Net_recovery_perc\"]*df_hyp['Total Paid Hours_x']  \n",
    "    \n",
    "    selected_vol=['cust_id', 'branch_code', 'Total Paid Hours_x', 'Gross Margin %', 'Average Regular Time Pay Rate',\n",
    "                  'Average Regular Time Bill Rate', 'concept_desc', 'WA_H_MEDIAN', 'decision',  \n",
    "                  'Net_recovery_perc', 'recovery_amt','STATE','CITY','POSTAL','ws_latitude','ws_longitude' ]\n",
    "    \n",
    "    df2=df_hyp.merge(geodata, on=['cust_id', 'branch_code'], how='inner') \n",
    "    df2 = df2.drop_duplicates(subset = ['cust_id', 'branch_code'], keep = 'last').reset_index(drop = True)\n",
    "    \n",
    "    df2=df2[selected_vol]\n",
    "    \n",
    "    return df, df2\n",
    "\n",
    "\n",
    "df_cust_recovery, df_hyp_recovery=cust_recovery(cus_final, jwtest, final_decision)\n"
   ]
  },
  {
   "cell_type": "code",
   "execution_count": 175,
   "metadata": {},
   "outputs": [
    {
     "data": {
      "text/plain": [
       "17803374.014832426"
      ]
     },
     "execution_count": 175,
     "metadata": {},
     "output_type": "execute_result"
    }
   ],
   "source": [
    "df_cust_recovery['recovery_amt'].sum()"
   ]
  },
  {
   "cell_type": "code",
   "execution_count": 176,
   "metadata": {},
   "outputs": [
    {
     "name": "stdout",
     "output_type": "stream",
     "text": [
      "(14570, 16)\n"
     ]
    },
    {
     "data": {
      "text/plain": [
       "14316573.31565322"
      ]
     },
     "execution_count": 176,
     "metadata": {},
     "output_type": "execute_result"
    }
   ],
   "source": [
    "print(df_hyp_recovery.shape)\n",
    "df_hyp_recovery['recovery_amt'].sum()"
   ]
  },
  {
   "cell_type": "code",
   "execution_count": 177,
   "metadata": {},
   "outputs": [
    {
     "name": "stdout",
     "output_type": "stream",
     "text": [
      "cust data comparison\n",
      "(689791, 53)\n",
      "(686515, 59)\n",
      "hype data comparison\n",
      "(14656, 14)\n",
      "(14570, 16)\n"
     ]
    }
   ],
   "source": [
    "print(\"cust data comparison\")\n",
    "print(cus_final.shape)\n",
    "print(df_cust_recovery.shape)\n",
    "\n",
    "print(\"hype data comparison\")\n",
    "print(jwtest.shape)\n",
    "print(df_hyp_recovery.shape)\n"
   ]
  },
  {
   "cell_type": "code",
   "execution_count": 178,
   "metadata": {},
   "outputs": [],
   "source": [
    "#df_cust_recovery.head()"
   ]
  },
  {
   "cell_type": "code",
   "execution_count": 179,
   "metadata": {},
   "outputs": [
    {
     "data": {
      "text/html": [
       "<div>\n",
       "<style scoped>\n",
       "    .dataframe tbody tr th:only-of-type {\n",
       "        vertical-align: middle;\n",
       "    }\n",
       "\n",
       "    .dataframe tbody tr th {\n",
       "        vertical-align: top;\n",
       "    }\n",
       "\n",
       "    .dataframe thead th {\n",
       "        text-align: right;\n",
       "    }\n",
       "</style>\n",
       "<table border=\"1\" class=\"dataframe\">\n",
       "  <thead>\n",
       "    <tr style=\"text-align: right;\">\n",
       "      <th></th>\n",
       "      <th>cust_id</th>\n",
       "      <th>branch_code</th>\n",
       "      <th>Total Paid Hours_x</th>\n",
       "      <th>Gross Margin %</th>\n",
       "      <th>Average Regular Time Pay Rate</th>\n",
       "      <th>Average Regular Time Bill Rate</th>\n",
       "      <th>concept_desc</th>\n",
       "      <th>WA_H_MEDIAN</th>\n",
       "      <th>decision</th>\n",
       "      <th>Net_recovery_perc</th>\n",
       "      <th>recovery_amt</th>\n",
       "      <th>STATE</th>\n",
       "      <th>CITY</th>\n",
       "      <th>POSTAL</th>\n",
       "      <th>ws_latitude</th>\n",
       "      <th>ws_longitude</th>\n",
       "    </tr>\n",
       "  </thead>\n",
       "  <tbody>\n",
       "    <tr>\n",
       "      <th>0</th>\n",
       "      <td>2000931209</td>\n",
       "      <td>14388</td>\n",
       "      <td>256.00</td>\n",
       "      <td>0.052816</td>\n",
       "      <td>15.590000</td>\n",
       "      <td>29.980000</td>\n",
       "      <td>RIS</td>\n",
       "      <td>19.32</td>\n",
       "      <td>0.0</td>\n",
       "      <td>0.0</td>\n",
       "      <td>0.0</td>\n",
       "      <td>CA</td>\n",
       "      <td>SAN FRANCISCO</td>\n",
       "      <td>94108</td>\n",
       "      <td>37.788309</td>\n",
       "      <td>-122.404096</td>\n",
       "    </tr>\n",
       "    <tr>\n",
       "      <th>1</th>\n",
       "      <td>2000608974</td>\n",
       "      <td>14388</td>\n",
       "      <td>2782.00</td>\n",
       "      <td>0.370994</td>\n",
       "      <td>15.836130</td>\n",
       "      <td>30.963026</td>\n",
       "      <td>RIS</td>\n",
       "      <td>21.80</td>\n",
       "      <td>0.0</td>\n",
       "      <td>0.0</td>\n",
       "      <td>0.0</td>\n",
       "      <td>CA</td>\n",
       "      <td>SAN FRANCISCO</td>\n",
       "      <td>94108</td>\n",
       "      <td>37.788309</td>\n",
       "      <td>-122.404096</td>\n",
       "    </tr>\n",
       "    <tr>\n",
       "      <th>2</th>\n",
       "      <td>2001034584</td>\n",
       "      <td>26022</td>\n",
       "      <td>69.50</td>\n",
       "      <td>0.333377</td>\n",
       "      <td>15.000000</td>\n",
       "      <td>25.000000</td>\n",
       "      <td>MC</td>\n",
       "      <td>18.05</td>\n",
       "      <td>0.0</td>\n",
       "      <td>0.0</td>\n",
       "      <td>0.0</td>\n",
       "      <td>KY</td>\n",
       "      <td>LOUISVILLE</td>\n",
       "      <td>40204</td>\n",
       "      <td>38.235509</td>\n",
       "      <td>-85.709114</td>\n",
       "    </tr>\n",
       "    <tr>\n",
       "      <th>3</th>\n",
       "      <td>2001030715</td>\n",
       "      <td>18024</td>\n",
       "      <td>18.00</td>\n",
       "      <td>0.187843</td>\n",
       "      <td>17.333333</td>\n",
       "      <td>24.266667</td>\n",
       "      <td>MC</td>\n",
       "      <td>14.33</td>\n",
       "      <td>0.0</td>\n",
       "      <td>0.0</td>\n",
       "      <td>0.0</td>\n",
       "      <td>FL</td>\n",
       "      <td>MIAMI</td>\n",
       "      <td>33137</td>\n",
       "      <td>25.813049</td>\n",
       "      <td>-80.193652</td>\n",
       "    </tr>\n",
       "    <tr>\n",
       "      <th>4</th>\n",
       "      <td>2001030715</td>\n",
       "      <td>39058</td>\n",
       "      <td>2509.34</td>\n",
       "      <td>0.175988</td>\n",
       "      <td>13.085543</td>\n",
       "      <td>18.319764</td>\n",
       "      <td>MC</td>\n",
       "      <td>15.22</td>\n",
       "      <td>0.0</td>\n",
       "      <td>0.0</td>\n",
       "      <td>0.0</td>\n",
       "      <td>NJ</td>\n",
       "      <td>SECAUCUS</td>\n",
       "      <td>07094</td>\n",
       "      <td>40.763359</td>\n",
       "      <td>-74.066779</td>\n",
       "    </tr>\n",
       "  </tbody>\n",
       "</table>\n",
       "</div>"
      ],
      "text/plain": [
       "      cust_id  branch_code  Total Paid Hours_x  Gross Margin %  \\\n",
       "0  2000931209        14388              256.00        0.052816   \n",
       "1  2000608974        14388             2782.00        0.370994   \n",
       "2  2001034584        26022               69.50        0.333377   \n",
       "3  2001030715        18024               18.00        0.187843   \n",
       "4  2001030715        39058             2509.34        0.175988   \n",
       "\n",
       "   Average Regular Time Pay Rate  Average Regular Time Bill Rate concept_desc  \\\n",
       "0                      15.590000                       29.980000          RIS   \n",
       "1                      15.836130                       30.963026          RIS   \n",
       "2                      15.000000                       25.000000           MC   \n",
       "3                      17.333333                       24.266667           MC   \n",
       "4                      13.085543                       18.319764           MC   \n",
       "\n",
       "   WA_H_MEDIAN  decision  Net_recovery_perc  recovery_amt STATE  \\\n",
       "0        19.32       0.0                0.0           0.0    CA   \n",
       "1        21.80       0.0                0.0           0.0    CA   \n",
       "2        18.05       0.0                0.0           0.0    KY   \n",
       "3        14.33       0.0                0.0           0.0    FL   \n",
       "4        15.22       0.0                0.0           0.0    NJ   \n",
       "\n",
       "            CITY POSTAL  ws_latitude  ws_longitude  \n",
       "0  SAN FRANCISCO  94108    37.788309   -122.404096  \n",
       "1  SAN FRANCISCO  94108    37.788309   -122.404096  \n",
       "2     LOUISVILLE  40204    38.235509    -85.709114  \n",
       "3          MIAMI  33137    25.813049    -80.193652  \n",
       "4       SECAUCUS  07094    40.763359    -74.066779  "
      ]
     },
     "execution_count": 179,
     "metadata": {},
     "output_type": "execute_result"
    }
   ],
   "source": [
    "df_hyp_recovery.head()"
   ]
  },
  {
   "cell_type": "code",
   "execution_count": 180,
   "metadata": {},
   "outputs": [],
   "source": [
    "#df_cust_recovery.to_csv('tableau_df_cust_recovery.csv')\n",
    "\n",
    "#df_hyp_recovery.to_csv('tableau_df_hyp_recovery.csv')"
   ]
  },
  {
   "cell_type": "code",
   "execution_count": null,
   "metadata": {},
   "outputs": [],
   "source": []
  }
 ],
 "metadata": {
  "kernelspec": {
   "display_name": "Python 3",
   "language": "python",
   "name": "python3"
  },
  "language_info": {
   "codemirror_mode": {
    "name": "ipython",
    "version": 3
   },
   "file_extension": ".py",
   "mimetype": "text/x-python",
   "name": "python",
   "nbconvert_exporter": "python",
   "pygments_lexer": "ipython3",
   "version": "3.7.3"
  }
 },
 "nbformat": 4,
 "nbformat_minor": 2
}
